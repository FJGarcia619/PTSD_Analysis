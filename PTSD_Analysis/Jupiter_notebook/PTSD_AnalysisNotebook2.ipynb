{
 "cells": [
  {
   "cell_type": "markdown",
   "id": "84504884-150c-4927-95a2-c47f87b75058",
   "metadata": {},
   "source": [
    "# import in the Packages"
   ]
  },
  {
   "cell_type": "code",
   "execution_count": 1,
   "id": "42e4a10f-6d49-4318-88f4-4ae7a17fe992",
   "metadata": {},
   "outputs": [],
   "source": [
    "import pandas as pd\n",
    "import numpy as np\n",
    "from scipy import stats\n",
    "from scipy.stats import ttest_ind\n",
    "import seaborn as sns\n",
    "%matplotlib inline\n",
    "import matplotlib.mlab as mlab\n",
    "import matplotlib.pyplot as plt\n",
    "import statsmodels.api as sm\n",
    "from sklearn.model_selection import train_test_split\n",
    "from sklearn.tree import DecisionTreeClassifier\n",
    "from sklearn.metrics import classification_report, confusion_matrix, accuracy_score"
   ]
  },
  {
   "cell_type": "markdown",
   "id": "2e621398-f11d-4980-ab72-f9f7082efaea",
   "metadata": {},
   "source": [
    "# Load in the dataset"
   ]
  },
  {
   "cell_type": "code",
   "execution_count": 2,
   "id": "50373c5c-8ef6-4561-add3-05475aad9dfe",
   "metadata": {},
   "outputs": [],
   "source": [
    "harms = pd.read_csv('C:/Users/Franc/Documents/PTSD_Analysis/Jupiter_notebook/Harms.csv')"
   ]
  },
  {
   "cell_type": "markdown",
   "id": "386927cd-5287-424b-89aa-9e5a22074d8d",
   "metadata": {},
   "source": [
    "# explore the columns"
   ]
  },
  {
   "cell_type": "code",
   "execution_count": 3,
   "id": "4b3eb983-1f9b-4155-a1d9-75dfec6cad72",
   "metadata": {},
   "outputs": [
    {
     "data": {
      "text/plain": [
       "Index(['study_id', 'Study Class', 'Treatment Focus (Study level)',\n",
       "       'Intervention Group', 'Treatment Focus (Arm level)',\n",
       "       'Treatment Focus Subclass', 'Treatment Name', 'NCPTSD Treatment Name',\n",
       "       'Psychotherapy', 'Psychotherapy Subclass', 'Pharmacotherapy',\n",
       "       'Pharmacotherapy Subclass', 'CIH', 'CIH Subclass',\n",
       "       'Nonpharmacologic Biologic', 'Nonpharmacologic Cognitive', 'Control',\n",
       "       'Other', 'Collaborative Care', 'Format', 'Delivery Method',\n",
       "       'Arm N Randomized', 'Serious Adverse Event Percent',\n",
       "       'Serious Adverse Event Detail',\n",
       "       'Withdrawal Due to Adverse Events Percent',\n",
       "       'Withdrawal Due to Adverse Events Detail', 'Attempted Suicide Percent',\n",
       "       'Attempted Suicide Detail', 'Completed Suicide Percent',\n",
       "       'Completed Suicide Detail', 'Harms Comment',\n",
       "       'Military Status (Study level)',\n",
       "       'Active Duty Military Percent (Study level)',\n",
       "       'Veteran Percent (Study level)', 'Community Percent (Study level)',\n",
       "       'Female Percent (Study level)', 'Female Percent Detail (Study level)',\n",
       "       'Male Percent (Study level)', 'Trauma Type (Study level)',\n",
       "       'Risk of Bias Rating (Study level)', 'Citation', 'PTSDPubs ID',\n",
       "       'Year Added to PTSD-Repository'],\n",
       "      dtype='object')"
      ]
     },
     "execution_count": 3,
     "metadata": {},
     "output_type": "execute_result"
    }
   ],
   "source": [
    "harms.columns"
   ]
  },
  {
   "cell_type": "markdown",
   "id": "6c0b2c20-a4cc-46a2-a261-2022c21f99f9",
   "metadata": {},
   "source": [
    "# view the counts of Attempted Suicide Percent"
   ]
  },
  {
   "cell_type": "code",
   "execution_count": 4,
   "id": "4ef52ca0-f3b9-4276-955f-240c85f05101",
   "metadata": {},
   "outputs": [
    {
     "data": {
      "text/plain": [
       "NaN       791\n",
       "0.0000     53\n",
       "0.0180      2\n",
       "0.0357      1\n",
       "0.0286      1\n",
       "0.0370      1\n",
       "0.0071      1\n",
       "0.0333      1\n",
       "0.1042      1\n",
       "0.0210      1\n",
       "0.0175      1\n",
       "0.0150      1\n",
       "0.0250      1\n",
       "0.0091      1\n",
       "0.0178      1\n",
       "0.0270      1\n",
       "0.0294      1\n",
       "0.0364      1\n",
       "0.0063      1\n",
       "0.0134      1\n",
       "0.0740      1\n",
       "Name: Attempted Suicide Percent, dtype: int64"
      ]
     },
     "execution_count": 4,
     "metadata": {},
     "output_type": "execute_result"
    }
   ],
   "source": [
    "harms['Attempted Suicide Percent'].value_counts(dropna=False)"
   ]
  },
  {
   "cell_type": "code",
   "execution_count": 5,
   "id": "828326da-22da-4366-8c13-3e818d09e491",
   "metadata": {},
   "outputs": [
    {
     "data": {
      "text/plain": [
       "(864, 43)"
      ]
     },
     "execution_count": 5,
     "metadata": {},
     "output_type": "execute_result"
    }
   ],
   "source": [
    "harms.shape"
   ]
  },
  {
   "cell_type": "markdown",
   "id": "023f8367-5db5-4b23-9ff2-c981ff5c5650",
   "metadata": {},
   "source": [
    "# recode Attempted Suicide Percent"
   ]
  },
  {
   "cell_type": "code",
   "execution_count": 6,
   "id": "cea9a71b-7c03-46eb-b9dc-acacece2f942",
   "metadata": {},
   "outputs": [],
   "source": [
    "def recode_ASP (series):\n",
    "    if series > 0.00:\n",
    "        return 1\n",
    "    else:\n",
    "        return 0"
   ]
  },
  {
   "cell_type": "code",
   "execution_count": 7,
   "id": "3a58d430-4059-40c0-be54-33e4018fa6d6",
   "metadata": {},
   "outputs": [],
   "source": [
    "harms['aspRecode']=harms['Attempted Suicide Percent'].apply(recode_ASP)"
   ]
  },
  {
   "cell_type": "code",
   "execution_count": 8,
   "id": "2cf2e600-a631-4d40-8d9a-498b8153df86",
   "metadata": {},
   "outputs": [
    {
     "data": {
      "text/plain": [
       "0    844\n",
       "1     20\n",
       "Name: aspRecode, dtype: int64"
      ]
     },
     "execution_count": 8,
     "metadata": {},
     "output_type": "execute_result"
    }
   ],
   "source": [
    "harms['aspRecode'].value_counts(dropna=False)"
   ]
  },
  {
   "cell_type": "markdown",
   "id": "e9c11337-2a33-4907-aa59-423fc4c720c0",
   "metadata": {},
   "source": [
    "# Recode Psychotherapy"
   ]
  },
  {
   "cell_type": "code",
   "execution_count": 9,
   "id": "d9dd0238-4b81-478c-b82a-f211684f1a58",
   "metadata": {},
   "outputs": [],
   "source": [
    "def recode_Psychotherapy_h4 (series):\n",
    "    if series == 'Yes':\n",
    "        return 1\n",
    "    else:\n",
    "        return 0"
   ]
  },
  {
   "cell_type": "code",
   "execution_count": 10,
   "id": "536a9c42-52ed-46e0-9469-7925894a2202",
   "metadata": {},
   "outputs": [
    {
     "data": {
      "text/plain": [
       "No     465\n",
       "Yes    396\n",
       "NaN      3\n",
       "Name: Psychotherapy, dtype: int64"
      ]
     },
     "execution_count": 10,
     "metadata": {},
     "output_type": "execute_result"
    }
   ],
   "source": [
    "harms['Psychotherapy'].value_counts(dropna=False)"
   ]
  },
  {
   "cell_type": "code",
   "execution_count": 11,
   "id": "0d2400ab-ef2a-4a80-b177-3950605d6eac",
   "metadata": {},
   "outputs": [],
   "source": [
    "harms['psychotherapyRecode']=harms['Psychotherapy'].apply(recode_Psychotherapy_h4)"
   ]
  },
  {
   "cell_type": "markdown",
   "id": "14fb92dd-f3ea-4e5e-b26b-fc70cd18f40d",
   "metadata": {},
   "source": [
    "# Explore the data"
   ]
  },
  {
   "cell_type": "code",
   "execution_count": 12,
   "id": "f9d0c740-8c6d-4b5b-b321-e2161cc054ca",
   "metadata": {},
   "outputs": [
    {
     "data": {
      "text/plain": [
       "0    468\n",
       "1    396\n",
       "Name: psychotherapyRecode, dtype: int64"
      ]
     },
     "execution_count": 12,
     "metadata": {},
     "output_type": "execute_result"
    }
   ],
   "source": [
    "harms['psychotherapyRecode'].value_counts(dropna=False)"
   ]
  },
  {
   "cell_type": "code",
   "execution_count": 13,
   "id": "e6646db8-d992-4544-929c-2dbf5461d7e1",
   "metadata": {},
   "outputs": [
    {
     "data": {
      "text/plain": [
       "NaN       638\n",
       "0.0000    148\n",
       "0.1000      6\n",
       "0.0303      4\n",
       "0.0400      3\n",
       "         ... \n",
       "0.0211      1\n",
       "0.0180      1\n",
       "0.0088      1\n",
       "0.0154      1\n",
       "0.0182      1\n",
       "Name: Serious Adverse Event Percent, Length: 64, dtype: int64"
      ]
     },
     "execution_count": 13,
     "metadata": {},
     "output_type": "execute_result"
    }
   ],
   "source": [
    "harms['Serious Adverse Event Percent'].value_counts(dropna=False)"
   ]
  },
  {
   "cell_type": "code",
   "execution_count": 14,
   "id": "e932d356-d2b3-4184-be08-9fdee6c63a4f",
   "metadata": {},
   "outputs": [],
   "source": [
    "harms['Serious Adverse Event Percent'].fillna(0.0, inplace=True)"
   ]
  },
  {
   "cell_type": "code",
   "execution_count": 15,
   "id": "9874bca5-7e29-43a6-bcf6-b359f106fefc",
   "metadata": {},
   "outputs": [
    {
     "data": {
      "text/plain": [
       "0.0000    786\n",
       "0.1000      6\n",
       "0.0303      4\n",
       "0.0400      3\n",
       "0.0227      2\n",
       "         ... \n",
       "0.0211      1\n",
       "0.0180      1\n",
       "0.0088      1\n",
       "0.0154      1\n",
       "0.0182      1\n",
       "Name: Serious Adverse Event Percent, Length: 63, dtype: int64"
      ]
     },
     "execution_count": 15,
     "metadata": {},
     "output_type": "execute_result"
    }
   ],
   "source": [
    "harms['Serious Adverse Event Percent'].value_counts(dropna=False)"
   ]
  },
  {
   "cell_type": "markdown",
   "id": "0f5b4ee8-8cab-4c3e-9435-29486eaf9896",
   "metadata": {},
   "source": [
    "# Isolate columns we are going to use"
   ]
  },
  {
   "cell_type": "code",
   "execution_count": 16,
   "id": "4ae737b9-aa48-4df0-b2f0-57bc5bce676f",
   "metadata": {},
   "outputs": [],
   "source": [
    "x = harms[['Veteran Percent (Study level)', 'Male Percent (Study level)','psychotherapyRecode','Serious Adverse Event Percent', 'aspRecode' ]]\n"
   ]
  },
  {
   "cell_type": "code",
   "execution_count": 17,
   "id": "467ce1a7-61e2-411b-b471-fe99fb052b95",
   "metadata": {},
   "outputs": [
    {
     "data": {
      "text/plain": [
       "Index(['study_id', 'Study Class', 'Treatment Focus (Study level)',\n",
       "       'Intervention Group', 'Treatment Focus (Arm level)',\n",
       "       'Treatment Focus Subclass', 'Treatment Name', 'NCPTSD Treatment Name',\n",
       "       'Psychotherapy', 'Psychotherapy Subclass', 'Pharmacotherapy',\n",
       "       'Pharmacotherapy Subclass', 'CIH', 'CIH Subclass',\n",
       "       'Nonpharmacologic Biologic', 'Nonpharmacologic Cognitive', 'Control',\n",
       "       'Other', 'Collaborative Care', 'Format', 'Delivery Method',\n",
       "       'Arm N Randomized', 'Serious Adverse Event Percent',\n",
       "       'Serious Adverse Event Detail',\n",
       "       'Withdrawal Due to Adverse Events Percent',\n",
       "       'Withdrawal Due to Adverse Events Detail', 'Attempted Suicide Percent',\n",
       "       'Attempted Suicide Detail', 'Completed Suicide Percent',\n",
       "       'Completed Suicide Detail', 'Harms Comment',\n",
       "       'Military Status (Study level)',\n",
       "       'Active Duty Military Percent (Study level)',\n",
       "       'Veteran Percent (Study level)', 'Community Percent (Study level)',\n",
       "       'Female Percent (Study level)', 'Female Percent Detail (Study level)',\n",
       "       'Male Percent (Study level)', 'Trauma Type (Study level)',\n",
       "       'Risk of Bias Rating (Study level)', 'Citation', 'PTSDPubs ID',\n",
       "       'Year Added to PTSD-Repository', 'aspRecode', 'psychotherapyRecode'],\n",
       "      dtype='object')"
      ]
     },
     "execution_count": 17,
     "metadata": {},
     "output_type": "execute_result"
    }
   ],
   "source": [
    "harms.columns"
   ]
  },
  {
   "cell_type": "code",
   "execution_count": 18,
   "id": "ca1a9278-b802-43c1-beac-5eb033f703fd",
   "metadata": {},
   "outputs": [
    {
     "data": {
      "text/plain": [
       "NaN       462\n",
       "1.0000    260\n",
       "0.0000     84\n",
       "0.1152      4\n",
       "0.9205      4\n",
       "0.4000      4\n",
       "0.8462      3\n",
       "0.2690      3\n",
       "0.0684      2\n",
       "0.8222      2\n",
       "0.1700      2\n",
       "0.1190      2\n",
       "0.0299      2\n",
       "0.7018      2\n",
       "0.2000      2\n",
       "0.0400      2\n",
       "0.9754      2\n",
       "0.1000      2\n",
       "0.9762      2\n",
       "0.4844      2\n",
       "0.2250      2\n",
       "0.4817      2\n",
       "0.7100      2\n",
       "0.7857      2\n",
       "0.2619      2\n",
       "0.6020      2\n",
       "0.5880      2\n",
       "0.3143      2\n",
       "Name: Veteran Percent (Study level), dtype: int64"
      ]
     },
     "execution_count": 18,
     "metadata": {},
     "output_type": "execute_result"
    }
   ],
   "source": [
    "harms['Veteran Percent (Study level)'].value_counts(dropna=False)"
   ]
  },
  {
   "cell_type": "code",
   "execution_count": 19,
   "id": "d02b720c-5917-4840-ad4b-3d2e618455cc",
   "metadata": {},
   "outputs": [
    {
     "data": {
      "text/plain": [
       "<bound method NDFrame.head of      Veteran Percent (Study level)  Male Percent (Study level)  \\\n",
       "0                              NaN                      0.2551   \n",
       "1                              NaN                      0.2551   \n",
       "2                              1.0                      0.9621   \n",
       "3                              1.0                      0.9621   \n",
       "4                              NaN                      0.5588   \n",
       "..                             ...                         ...   \n",
       "859                            NaN                      0.2857   \n",
       "860                            1.0                      0.1200   \n",
       "861                            1.0                      0.1200   \n",
       "862                            NaN                      0.5530   \n",
       "863                            NaN                      0.5530   \n",
       "\n",
       "     psychotherapyRecode  Serious Adverse Event Percent  aspRecode  \n",
       "0                      1                            0.0          0  \n",
       "1                      0                            0.0          0  \n",
       "2                      1                            0.0          0  \n",
       "3                      1                            0.0          0  \n",
       "4                      1                            0.0          0  \n",
       "..                   ...                            ...        ...  \n",
       "859                    0                            0.0          0  \n",
       "860                    0                            0.0          0  \n",
       "861                    0                            0.0          0  \n",
       "862                    0                            0.0          0  \n",
       "863                    0                            0.0          0  \n",
       "\n",
       "[864 rows x 5 columns]>"
      ]
     },
     "execution_count": 19,
     "metadata": {},
     "output_type": "execute_result"
    }
   ],
   "source": [
    "x.head"
   ]
  },
  {
   "cell_type": "markdown",
   "id": "19df2ade-108d-40ec-be9d-a44e8525f880",
   "metadata": {},
   "source": [
    "# Drop the NAN's from the dataframe"
   ]
  },
  {
   "cell_type": "code",
   "execution_count": 20,
   "id": "ce623d39-5101-4874-b907-6dd9338cb921",
   "metadata": {},
   "outputs": [],
   "source": [
    "x=x.dropna()"
   ]
  },
  {
   "cell_type": "code",
   "execution_count": 21,
   "id": "cba744e0-8c45-4a55-91cf-79c497fb22bf",
   "metadata": {},
   "outputs": [
    {
     "data": {
      "text/plain": [
       "(376, 5)"
      ]
     },
     "execution_count": 21,
     "metadata": {},
     "output_type": "execute_result"
    }
   ],
   "source": [
    "x.shape"
   ]
  },
  {
   "cell_type": "code",
   "execution_count": 22,
   "id": "238006e7-4345-414b-bd09-67c3e41768aa",
   "metadata": {},
   "outputs": [
    {
     "data": {
      "text/plain": [
       "0    366\n",
       "1     10\n",
       "Name: aspRecode, dtype: int64"
      ]
     },
     "execution_count": 22,
     "metadata": {},
     "output_type": "execute_result"
    }
   ],
   "source": [
    "x.aspRecode.value_counts()"
   ]
  },
  {
   "cell_type": "markdown",
   "id": "a915b35e-8b17-4394-bfb5-00de5c96cd28",
   "metadata": {},
   "source": [
    "# Create Dataframe pairplot grid"
   ]
  },
  {
   "cell_type": "code",
   "execution_count": 23,
   "id": "bd5d767c-23dc-4908-b58a-3d4d8c6ce8de",
   "metadata": {},
   "outputs": [
    {
     "data": {
      "text/plain": [
       "<seaborn.axisgrid.PairGrid at 0x23ebb272b50>"
      ]
     },
     "execution_count": 23,
     "metadata": {},
     "output_type": "execute_result"
    },
    {
     "data": {
      "image/png": "[encoded data removed]",
      "text/plain": [
       "<Figure size 900x900 with 30 Axes>"
      ]
     },
     "metadata": {
      "needs_background": "light"
     },
     "output_type": "display_data"
    }
   ],
   "source": [
    "sns.pairplot(x)"
   ]
  },
  {
   "cell_type": "markdown",
   "id": "cc0233f5-8fc3-411d-91c7-e8740057fa06",
   "metadata": {},
   "source": [
    "# Declare x,y variables"
   ]
  },
  {
   "cell_type": "code",
   "execution_count": 24,
   "id": "fd3858a7-391a-4ece-8f11-366a867477b6",
   "metadata": {},
   "outputs": [
    {
     "name": "stderr",
     "output_type": "stream",
     "text": [
      "C:\\Users\\Franc\\anaconda3\\lib\\site-packages\\pandas\\core\\frame.py:4308: SettingWithCopyWarning: \n",
      "A value is trying to be set on a copy of a slice from a DataFrame\n",
      "\n",
      "See the caveats in the documentation: https://pandas.pydata.org/pandas-docs/stable/user_guide/indexing.html#returning-a-view-versus-a-copy\n",
      "  return super().drop(\n"
     ]
    }
   ],
   "source": [
    "y=x['aspRecode']\n",
    "x.drop(columns='aspRecode', inplace=True)"
   ]
  },
  {
   "cell_type": "markdown",
   "id": "071a1764-d782-4837-83dc-871e368908fa",
   "metadata": {},
   "source": [
    "# Train Test, Split"
   ]
  },
  {
   "cell_type": "code",
   "execution_count": 25,
   "id": "be4e9313-5f20-45b8-afd7-1aa569db4adf",
   "metadata": {},
   "outputs": [],
   "source": [
    "x_train, x_test, y_train, y_test = train_test_split(x,y, test_size=0.3, random_state=76, stratify=y)"
   ]
  },
  {
   "cell_type": "markdown",
   "id": "7a84bcf3-36a4-4e2c-9053-29d16c0c55d9",
   "metadata": {},
   "source": [
    "# Initial decision tree\n"
   ]
  },
  {
   "cell_type": "code",
   "execution_count": 26,
   "id": "404fac49-1150-437a-bc1f-6eb3b87b8429",
   "metadata": {},
   "outputs": [
    {
     "data": {
      "text/plain": [
       "DecisionTreeClassifier(random_state=76)"
      ]
     },
     "execution_count": 26,
     "metadata": {},
     "output_type": "execute_result"
    }
   ],
   "source": [
    "decisionTree = DecisionTreeClassifier( random_state=76)\n",
    "decisionTree.fit(x_train, y_train)"
   ]
  },
  {
   "cell_type": "code",
   "execution_count": 27,
   "id": "36fb3654-2922-4f6c-af11-0701e2d57445",
   "metadata": {},
   "outputs": [
    {
     "name": "stdout",
     "output_type": "stream",
     "text": [
      "[[109   1]\n",
      " [  2   1]]\n"
     ]
    }
   ],
   "source": [
    "treePredictions =decisionTree.predict(x_test)\n",
    "print(confusion_matrix(y_test, treePredictions))"
   ]
  },
  {
   "cell_type": "code",
   "execution_count": 28,
   "id": "276ed303-ee43-4022-9932-6eb54ce2030a",
   "metadata": {},
   "outputs": [
    {
     "name": "stdout",
     "output_type": "stream",
     "text": [
      "              precision    recall  f1-score   support\n",
      "\n",
      "           0       0.98      0.99      0.99       110\n",
      "           1       0.50      0.33      0.40         3\n",
      "\n",
      "    accuracy                           0.97       113\n",
      "   macro avg       0.74      0.66      0.69       113\n",
      "weighted avg       0.97      0.97      0.97       113\n",
      "\n"
     ]
    }
   ],
   "source": [
    "print(classification_report(y_test, treePredictions))"
   ]
  },
  {
   "cell_type": "code",
   "execution_count": 29,
   "id": "b4a46f24-596b-4218-a9eb-35a5ccc7a651",
   "metadata": {},
   "outputs": [],
   "source": [
    "# What this is telling us is that the model was able to predict who was not going to have a suicide attempt, 98% of the time.\n",
    "# The model was only able to predict 50% of the time, when some one would attempt suicide. Our model was acurate over all 97%\n",
    "# The high acuracy was driven by an inblanced data set."
   ]
  },
  {
   "cell_type": "markdown",
   "id": "1b561d39-e841-4209-a7e0-a5dc95fdf7e8",
   "metadata": {},
   "source": [
    "# Decision Tree"
   ]
  },
  {
   "cell_type": "code",
   "execution_count": 30,
   "id": "624846fd-8237-49f4-8ed5-a688c0c3568c",
   "metadata": {},
   "outputs": [],
   "source": [
    "from sklearn.metrics import plot_confusion_matrix"
   ]
  },
  {
   "cell_type": "code",
   "execution_count": 31,
   "id": "2753fdc8-7e40-4c8b-b08f-86a19590ec6c",
   "metadata": {},
   "outputs": [
    {
     "data": {
      "image/png": "[encoded data removed]",
      "text/plain": [
       "<Figure size 432x288 with 2 Axes>"
      ]
     },
     "metadata": {
      "needs_background": "light"
     },
     "output_type": "display_data"
    }
   ],
   "source": [
    "plot_confusion_matrix(decisionTree, x_test, y_test)  \n",
    "plt.show()\n"
   ]
  },
  {
   "cell_type": "code",
   "execution_count": 32,
   "id": "9b0ec9e3-6b65-439f-9f88-d9a19ce91ea6",
   "metadata": {},
   "outputs": [],
   "source": [
    "# There was 109 cases where the model predicted 0 suicides and they where 0 suicides.\n",
    "# 2 cases where the model failed to predicted a suicide when there was one.\n",
    "# One case where the model predicted a suicied and got it right.\n",
    "# And one case where the model predicted a suicide and there was none."
   ]
  },
  {
   "cell_type": "markdown",
   "id": "285b3953-b79b-4656-b2dc-8f21c8c94610",
   "metadata": {},
   "source": [
    "# Random Forest"
   ]
  },
  {
   "cell_type": "code",
   "execution_count": 33,
   "id": "bbb66205-2fd0-4360-9c86-ee1a0278ccd4",
   "metadata": {},
   "outputs": [],
   "source": [
    "from sklearn.ensemble import RandomForestClassifier"
   ]
  },
  {
   "cell_type": "code",
   "execution_count": 34,
   "id": "a107ae27-73ce-476f-97e0-86a9ada7cbe2",
   "metadata": {},
   "outputs": [
    {
     "data": {
      "text/plain": [
       "RandomForestClassifier(random_state=76)"
      ]
     },
     "execution_count": 34,
     "metadata": {},
     "output_type": "execute_result"
    }
   ],
   "source": [
    "forest = RandomForestClassifier(random_state=76)\n",
    "forest.fit(x_train, y_train)"
   ]
  },
  {
   "cell_type": "code",
   "execution_count": 35,
   "id": "229f42eb-3a2d-4616-b179-24ce0a7b3dc3",
   "metadata": {},
   "outputs": [
    {
     "name": "stdout",
     "output_type": "stream",
     "text": [
      "0.9823008849557522\n"
     ]
    }
   ],
   "source": [
    "print(accuracy_score(y_test, forest.predict(x_test)))"
   ]
  },
  {
   "cell_type": "code",
   "execution_count": 36,
   "id": "97fc3432-9256-4e2a-8b19-1bcbba7414d8",
   "metadata": {},
   "outputs": [
    {
     "name": "stdout",
     "output_type": "stream",
     "text": [
      "              precision    recall  f1-score   support\n",
      "\n",
      "           0       0.98      1.00      0.99       110\n",
      "           1       1.00      0.33      0.50         3\n",
      "\n",
      "    accuracy                           0.98       113\n",
      "   macro avg       0.99      0.67      0.75       113\n",
      "weighted avg       0.98      0.98      0.98       113\n",
      "\n"
     ]
    }
   ],
   "source": [
    "print(classification_report(y_test,forest.predict(x_test)))"
   ]
  },
  {
   "cell_type": "markdown",
   "id": "c4d636a6-ea2b-4a90-9636-a3036aaa1193",
   "metadata": {},
   "source": [
    "# Random forest confusion matrix"
   ]
  },
  {
   "cell_type": "code",
   "execution_count": 37,
   "id": "187eff2e-0d47-4fda-9ea6-e623faa79fa0",
   "metadata": {},
   "outputs": [
    {
     "data": {
      "image/png": "[encoded data removed]",
      "text/plain": [
       "<Figure size 432x288 with 2 Axes>"
      ]
     },
     "metadata": {
      "needs_background": "light"
     },
     "output_type": "display_data"
    }
   ],
   "source": [
    "plot_confusion_matrix(forest, x_test, y_test)  \n",
    "plt.show()"
   ]
  },
  {
   "cell_type": "code",
   "execution_count": 38,
   "id": "9f01b855-61f8-453f-957d-43a20c1e4506",
   "metadata": {},
   "outputs": [
    {
     "data": {
      "text/html": [
       "<style  type=\"text/css\" >\n",
       "#T_0a80b_row0_col0,#T_0a80b_row1_col1,#T_0a80b_row2_col2,#T_0a80b_row3_col3{\n",
       "            background-color:  #b40426;\n",
       "            color:  #f1f1f1;\n",
       "        }#T_0a80b_row0_col1{\n",
       "            background-color:  #efcfbf;\n",
       "            color:  #000000;\n",
       "        }#T_0a80b_row0_col2{\n",
       "            background-color:  #4961d2;\n",
       "            color:  #f1f1f1;\n",
       "        }#T_0a80b_row0_col3{\n",
       "            background-color:  #4f69d9;\n",
       "            color:  #000000;\n",
       "        }#T_0a80b_row1_col0{\n",
       "            background-color:  #ebd3c6;\n",
       "            color:  #000000;\n",
       "        }#T_0a80b_row1_col2,#T_0a80b_row2_col0,#T_0a80b_row2_col1,#T_0a80b_row2_col3{\n",
       "            background-color:  #3b4cc0;\n",
       "            color:  #f1f1f1;\n",
       "        }#T_0a80b_row1_col3{\n",
       "            background-color:  #3d50c3;\n",
       "            color:  #f1f1f1;\n",
       "        }#T_0a80b_row3_col0{\n",
       "            background-color:  #6282ea;\n",
       "            color:  #000000;\n",
       "        }#T_0a80b_row3_col1{\n",
       "            background-color:  #5e7de7;\n",
       "            color:  #000000;\n",
       "        }#T_0a80b_row3_col2{\n",
       "            background-color:  #5a78e4;\n",
       "            color:  #000000;\n",
       "        }</style><table id=\"T_0a80b_\" ><thead>    <tr>        <th class=\"blank level0\" ></th>        <th class=\"col_heading level0 col0\" >Veteran Percent (Study level)</th>        <th class=\"col_heading level0 col1\" >Male Percent (Study level)</th>        <th class=\"col_heading level0 col2\" >psychotherapyRecode</th>        <th class=\"col_heading level0 col3\" >Serious Adverse Event Percent</th>    </tr></thead><tbody>\n",
       "                <tr>\n",
       "                        <th id=\"T_0a80b_level0_row0\" class=\"row_heading level0 row0\" >Veteran Percent (Study level)</th>\n",
       "                        <td id=\"T_0a80b_row0_col0\" class=\"data row0 col0\" >1.000000</td>\n",
       "                        <td id=\"T_0a80b_row0_col1\" class=\"data row0 col1\" >0.533417</td>\n",
       "                        <td id=\"T_0a80b_row0_col2\" class=\"data row0 col2\" >-0.060158</td>\n",
       "                        <td id=\"T_0a80b_row0_col3\" class=\"data row0 col3\" >0.072396</td>\n",
       "            </tr>\n",
       "            <tr>\n",
       "                        <th id=\"T_0a80b_level0_row1\" class=\"row_heading level0 row1\" >Male Percent (Study level)</th>\n",
       "                        <td id=\"T_0a80b_row1_col0\" class=\"data row1 col0\" >0.533417</td>\n",
       "                        <td id=\"T_0a80b_row1_col1\" class=\"data row1 col1\" >1.000000</td>\n",
       "                        <td id=\"T_0a80b_row1_col2\" class=\"data row1 col2\" >-0.113282</td>\n",
       "                        <td id=\"T_0a80b_row1_col3\" class=\"data row1 col3\" >0.013728</td>\n",
       "            </tr>\n",
       "            <tr>\n",
       "                        <th id=\"T_0a80b_level0_row2\" class=\"row_heading level0 row2\" >psychotherapyRecode</th>\n",
       "                        <td id=\"T_0a80b_row2_col0\" class=\"data row2 col0\" >-0.060158</td>\n",
       "                        <td id=\"T_0a80b_row2_col1\" class=\"data row2 col1\" >-0.113282</td>\n",
       "                        <td id=\"T_0a80b_row2_col2\" class=\"data row2 col2\" >1.000000</td>\n",
       "                        <td id=\"T_0a80b_row2_col3\" class=\"data row2 col3\" >0.003758</td>\n",
       "            </tr>\n",
       "            <tr>\n",
       "                        <th id=\"T_0a80b_level0_row3\" class=\"row_heading level0 row3\" >Serious Adverse Event Percent</th>\n",
       "                        <td id=\"T_0a80b_row3_col0\" class=\"data row3 col0\" >0.072396</td>\n",
       "                        <td id=\"T_0a80b_row3_col1\" class=\"data row3 col1\" >0.013728</td>\n",
       "                        <td id=\"T_0a80b_row3_col2\" class=\"data row3 col2\" >0.003758</td>\n",
       "                        <td id=\"T_0a80b_row3_col3\" class=\"data row3 col3\" >1.000000</td>\n",
       "            </tr>\n",
       "    </tbody></table>"
      ],
      "text/plain": [
       "<pandas.io.formats.style.Styler at 0x23ebcbc1970>"
      ]
     },
     "execution_count": 38,
     "metadata": {},
     "output_type": "execute_result"
    }
   ],
   "source": [
    "corr = x.corr()\n",
    "\n",
    "corr.style.background_gradient(cmap='coolwarm')"
   ]
  },
  {
   "cell_type": "code",
   "execution_count": null,
   "id": "95b5fa29-c1a0-4a24-adaf-9aba8bc55864",
   "metadata": {},
   "outputs": [],
   "source": []
  }
 ],
 "metadata": {
  "kernelspec": {
   "display_name": "Python 3",
   "language": "python",
   "name": "python3"
  },
  "language_info": {
   "codemirror_mode": {
    "name": "ipython",
    "version": 3
   },
   "file_extension": ".py",
   "mimetype": "text/x-python",
   "name": "python",
   "nbconvert_exporter": "python",
   "pygments_lexer": "ipython3",
   "version": "3.8.8"
  }
 },
 "nbformat": 4,
 "nbformat_minor": 5
}
