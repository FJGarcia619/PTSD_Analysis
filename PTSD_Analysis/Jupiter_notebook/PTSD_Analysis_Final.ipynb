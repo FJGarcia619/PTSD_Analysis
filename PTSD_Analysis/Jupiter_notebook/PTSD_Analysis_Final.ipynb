{
 "cells": [
  {
   "cell_type": "markdown",
   "metadata": {},
   "source": [
    "# import packages"
   ]
  },
  {
   "cell_type": "code",
   "execution_count": 78,
   "metadata": {},
   "outputs": [],
   "source": [
    "import pandas as pd\n",
    "import numpy as np\n",
    "from scipy import stats\n",
    "from scipy.stats import ttest_ind\n",
    "import seaborn as sns\n",
    "%matplotlib inline\n",
    "import matplotlib.mlab as mlab\n",
    "import matplotlib.pyplot as plt\n",
    "import statsmodels.api as sm\n",
    "from sklearn.model_selection import train_test_split\n",
    "from sklearn.tree import DecisionTreeClassifier\n",
    "from sklearn.metrics import classification_report, confusion_matrix, accuracy_score\n"
   ]
  },
  {
   "cell_type": "markdown",
   "metadata": {},
   "source": [
    "# read in The Dataset"
   ]
  },
  {
   "cell_type": "code",
   "execution_count": 2,
   "metadata": {},
   "outputs": [],
   "source": [
    "harms = pd.read_csv('C:/Users/Franc/Documents/PTSD_Analysis/Jupiter_notebook/Harms.csv')"
   ]
  },
  {
   "cell_type": "code",
   "execution_count": 3,
   "metadata": {},
   "outputs": [
    {
     "data": {
      "text/plain": [
       "'0.11.2'"
      ]
     },
     "execution_count": 3,
     "metadata": {},
     "output_type": "execute_result"
    }
   ],
   "source": [
    "sns.__version__"
   ]
  },
  {
   "cell_type": "markdown",
   "metadata": {},
   "source": [
    "# Data Exploration"
   ]
  },
  {
   "cell_type": "code",
   "execution_count": 4,
   "metadata": {},
   "outputs": [
    {
     "data": {
      "text/html": [
       "<div>\n",
       "<style scoped>\n",
       "    .dataframe tbody tr th:only-of-type {\n",
       "        vertical-align: middle;\n",
       "    }\n",
       "\n",
       "    .dataframe tbody tr th {\n",
       "        vertical-align: top;\n",
       "    }\n",
       "\n",
       "    .dataframe thead th {\n",
       "        text-align: right;\n",
       "    }\n",
       "</style>\n",
       "<table border=\"1\" class=\"dataframe\">\n",
       "  <thead>\n",
       "    <tr style=\"text-align: right;\">\n",
       "      <th></th>\n",
       "      <th>study_id</th>\n",
       "      <th>Study Class</th>\n",
       "      <th>Treatment Focus (Study level)</th>\n",
       "      <th>Intervention Group</th>\n",
       "      <th>Treatment Focus (Arm level)</th>\n",
       "      <th>Treatment Focus Subclass</th>\n",
       "      <th>Treatment Name</th>\n",
       "      <th>NCPTSD Treatment Name</th>\n",
       "      <th>Psychotherapy</th>\n",
       "      <th>Psychotherapy Subclass</th>\n",
       "      <th>...</th>\n",
       "      <th>Veteran Percent (Study level)</th>\n",
       "      <th>Community Percent (Study level)</th>\n",
       "      <th>Female Percent (Study level)</th>\n",
       "      <th>Female Percent Detail (Study level)</th>\n",
       "      <th>Male Percent (Study level)</th>\n",
       "      <th>Trauma Type (Study level)</th>\n",
       "      <th>Risk of Bias Rating (Study level)</th>\n",
       "      <th>Citation</th>\n",
       "      <th>PTSDPubs ID</th>\n",
       "      <th>Year Added to PTSD-Repository</th>\n",
       "    </tr>\n",
       "  </thead>\n",
       "  <tbody>\n",
       "    <tr>\n",
       "      <th>0</th>\n",
       "      <td>acarturk2016_A</td>\n",
       "      <td>Psychotherapy</td>\n",
       "      <td>PTSD</td>\n",
       "      <td>A</td>\n",
       "      <td>PTSD</td>\n",
       "      <td>NaN</td>\n",
       "      <td>EMDR Recent Traumatic Episode Protocol</td>\n",
       "      <td>Eye Movement Desensitization and Reprocessing ...</td>\n",
       "      <td>Yes</td>\n",
       "      <td>TF</td>\n",
       "      <td>...</td>\n",
       "      <td>NaN</td>\n",
       "      <td>1.0</td>\n",
       "      <td>0.7449</td>\n",
       "      <td>NaN</td>\n",
       "      <td>0.2551</td>\n",
       "      <td>Terrorism/political violence/forced displacement</td>\n",
       "      <td>Medium</td>\n",
       "      <td>Acarturk C, Konuk E, Cetinkaya M, et al. The e...</td>\n",
       "      <td>45262.0</td>\n",
       "      <td>2019</td>\n",
       "    </tr>\n",
       "    <tr>\n",
       "      <th>1</th>\n",
       "      <td>acarturk2016_B</td>\n",
       "      <td>Psychotherapy</td>\n",
       "      <td>PTSD</td>\n",
       "      <td>B</td>\n",
       "      <td>Control</td>\n",
       "      <td>NaN</td>\n",
       "      <td>Waitlist</td>\n",
       "      <td>Waitlist</td>\n",
       "      <td>No</td>\n",
       "      <td>Not Applicable</td>\n",
       "      <td>...</td>\n",
       "      <td>NaN</td>\n",
       "      <td>1.0</td>\n",
       "      <td>0.7449</td>\n",
       "      <td>NaN</td>\n",
       "      <td>0.2551</td>\n",
       "      <td>Terrorism/political violence/forced displacement</td>\n",
       "      <td>Medium</td>\n",
       "      <td>Acarturk C, Konuk E, Cetinkaya M, et al. The e...</td>\n",
       "      <td>45262.0</td>\n",
       "      <td>2019</td>\n",
       "    </tr>\n",
       "    <tr>\n",
       "      <th>2</th>\n",
       "      <td>acierno2017_A</td>\n",
       "      <td>Psychotherapy</td>\n",
       "      <td>PTSD</td>\n",
       "      <td>A</td>\n",
       "      <td>PTSD</td>\n",
       "      <td>NaN</td>\n",
       "      <td>PE delivered in-person</td>\n",
       "      <td>Prolonged Exposure (PE)</td>\n",
       "      <td>Yes</td>\n",
       "      <td>TF</td>\n",
       "      <td>...</td>\n",
       "      <td>1.0</td>\n",
       "      <td>NaN</td>\n",
       "      <td>0.0379</td>\n",
       "      <td>NaN</td>\n",
       "      <td>0.9621</td>\n",
       "      <td>Combat-related</td>\n",
       "      <td>Medium</td>\n",
       "      <td>Acierno RE, Knapp RG, Tuerk PW, et al. A non-i...</td>\n",
       "      <td>45948.0</td>\n",
       "      <td>2019</td>\n",
       "    </tr>\n",
       "    <tr>\n",
       "      <th>3</th>\n",
       "      <td>acierno2017_B</td>\n",
       "      <td>Psychotherapy</td>\n",
       "      <td>PTSD</td>\n",
       "      <td>B</td>\n",
       "      <td>PTSD</td>\n",
       "      <td>NaN</td>\n",
       "      <td>PE delivered via home-based telehealth</td>\n",
       "      <td>Prolonged Exposure (PE)</td>\n",
       "      <td>Yes</td>\n",
       "      <td>TF</td>\n",
       "      <td>...</td>\n",
       "      <td>1.0</td>\n",
       "      <td>NaN</td>\n",
       "      <td>0.0379</td>\n",
       "      <td>NaN</td>\n",
       "      <td>0.9621</td>\n",
       "      <td>Combat-related</td>\n",
       "      <td>Medium</td>\n",
       "      <td>Acierno RE, Knapp RG, Tuerk PW, et al. A non-i...</td>\n",
       "      <td>45948.0</td>\n",
       "      <td>2019</td>\n",
       "    </tr>\n",
       "    <tr>\n",
       "      <th>4</th>\n",
       "      <td>adenauer2011_A</td>\n",
       "      <td>Psychotherapy</td>\n",
       "      <td>PTSD</td>\n",
       "      <td>A</td>\n",
       "      <td>PTSD</td>\n",
       "      <td>NaN</td>\n",
       "      <td>NET</td>\n",
       "      <td>Narrative Exposure Therapy (NET)</td>\n",
       "      <td>Yes</td>\n",
       "      <td>TF</td>\n",
       "      <td>...</td>\n",
       "      <td>NaN</td>\n",
       "      <td>1.0</td>\n",
       "      <td>0.4412</td>\n",
       "      <td>NaN</td>\n",
       "      <td>0.5588</td>\n",
       "      <td>Terrorism/political violence/forced displacement</td>\n",
       "      <td>High</td>\n",
       "      <td>Adenauer H, Catani C, Gola H, et al. Narrative...</td>\n",
       "      <td>37889.0</td>\n",
       "      <td>2019</td>\n",
       "    </tr>\n",
       "    <tr>\n",
       "      <th>5</th>\n",
       "      <td>adenauer2011_B</td>\n",
       "      <td>Psychotherapy</td>\n",
       "      <td>PTSD</td>\n",
       "      <td>B</td>\n",
       "      <td>Control</td>\n",
       "      <td>NaN</td>\n",
       "      <td>Waitlist</td>\n",
       "      <td>Waitlist</td>\n",
       "      <td>No</td>\n",
       "      <td>Not Applicable</td>\n",
       "      <td>...</td>\n",
       "      <td>NaN</td>\n",
       "      <td>1.0</td>\n",
       "      <td>0.4412</td>\n",
       "      <td>NaN</td>\n",
       "      <td>0.5588</td>\n",
       "      <td>Terrorism/political violence/forced displacement</td>\n",
       "      <td>High</td>\n",
       "      <td>Adenauer H, Catani C, Gola H, et al. Narrative...</td>\n",
       "      <td>37889.0</td>\n",
       "      <td>2019</td>\n",
       "    </tr>\n",
       "    <tr>\n",
       "      <th>6</th>\n",
       "      <td>ahmadi2015_A</td>\n",
       "      <td>Mixed: Psychotherapy &amp; CIH</td>\n",
       "      <td>PTSD</td>\n",
       "      <td>A</td>\n",
       "      <td>PTSD</td>\n",
       "      <td>NaN</td>\n",
       "      <td>EMDR</td>\n",
       "      <td>Eye Movement Desensitization and Reprocessing ...</td>\n",
       "      <td>Yes</td>\n",
       "      <td>TF</td>\n",
       "      <td>...</td>\n",
       "      <td>0.0</td>\n",
       "      <td>0.0</td>\n",
       "      <td>0.0000</td>\n",
       "      <td>NaN</td>\n",
       "      <td>1.0000</td>\n",
       "      <td>Combat-related</td>\n",
       "      <td>High</td>\n",
       "      <td>Ahmadi K, Hazrati M, Ahmadizadeh MJ, et al. RE...</td>\n",
       "      <td>46896.0</td>\n",
       "      <td>2019</td>\n",
       "    </tr>\n",
       "    <tr>\n",
       "      <th>7</th>\n",
       "      <td>ahmadi2015_B</td>\n",
       "      <td>Mixed: Psychotherapy &amp; CIH</td>\n",
       "      <td>PTSD</td>\n",
       "      <td>B</td>\n",
       "      <td>PTSD</td>\n",
       "      <td>NaN</td>\n",
       "      <td>REM Desensitization</td>\n",
       "      <td>Rapid Eye Movement (REM) Desentization</td>\n",
       "      <td>No</td>\n",
       "      <td>Not Applicable</td>\n",
       "      <td>...</td>\n",
       "      <td>0.0</td>\n",
       "      <td>0.0</td>\n",
       "      <td>0.0000</td>\n",
       "      <td>NaN</td>\n",
       "      <td>1.0000</td>\n",
       "      <td>Combat-related</td>\n",
       "      <td>High</td>\n",
       "      <td>Ahmadi K, Hazrati M, Ahmadizadeh MJ, et al. RE...</td>\n",
       "      <td>46896.0</td>\n",
       "      <td>2019</td>\n",
       "    </tr>\n",
       "    <tr>\n",
       "      <th>8</th>\n",
       "      <td>ahmadi2015_C</td>\n",
       "      <td>Mixed: Psychotherapy &amp; CIH</td>\n",
       "      <td>PTSD</td>\n",
       "      <td>C</td>\n",
       "      <td>Control</td>\n",
       "      <td>NaN</td>\n",
       "      <td>Control</td>\n",
       "      <td>Waitlist</td>\n",
       "      <td>No</td>\n",
       "      <td>Not Applicable</td>\n",
       "      <td>...</td>\n",
       "      <td>0.0</td>\n",
       "      <td>0.0</td>\n",
       "      <td>0.0000</td>\n",
       "      <td>NaN</td>\n",
       "      <td>1.0000</td>\n",
       "      <td>Combat-related</td>\n",
       "      <td>High</td>\n",
       "      <td>Ahmadi K, Hazrati M, Ahmadizadeh MJ, et al. RE...</td>\n",
       "      <td>46896.0</td>\n",
       "      <td>2019</td>\n",
       "    </tr>\n",
       "    <tr>\n",
       "      <th>9</th>\n",
       "      <td>ahmadizadeh2018_A</td>\n",
       "      <td>Nonpharmacologic biological</td>\n",
       "      <td>PTSD</td>\n",
       "      <td>A</td>\n",
       "      <td>PTSD</td>\n",
       "      <td>NaN</td>\n",
       "      <td>Bilateral rTMS</td>\n",
       "      <td>Transcranial magnetic stimualtion (TMS)</td>\n",
       "      <td>No</td>\n",
       "      <td>Not Applicable</td>\n",
       "      <td>...</td>\n",
       "      <td>1.0</td>\n",
       "      <td>0.0</td>\n",
       "      <td>0.0000</td>\n",
       "      <td>NaN</td>\n",
       "      <td>1.0000</td>\n",
       "      <td>Combat-related</td>\n",
       "      <td>Medium</td>\n",
       "      <td>Ahmadizadeh MJ, Rezaei M. Unilateral right and...</td>\n",
       "      <td>50480.0</td>\n",
       "      <td>2019</td>\n",
       "    </tr>\n",
       "    <tr>\n",
       "      <th>10</th>\n",
       "      <td>ahmadizadeh2018_B</td>\n",
       "      <td>Nonpharmacologic biological</td>\n",
       "      <td>PTSD</td>\n",
       "      <td>B</td>\n",
       "      <td>PTSD</td>\n",
       "      <td>NaN</td>\n",
       "      <td>Unilateral rTMS</td>\n",
       "      <td>Transcranial magnetic stimualtion (TMS)</td>\n",
       "      <td>No</td>\n",
       "      <td>Not Applicable</td>\n",
       "      <td>...</td>\n",
       "      <td>1.0</td>\n",
       "      <td>0.0</td>\n",
       "      <td>0.0000</td>\n",
       "      <td>NaN</td>\n",
       "      <td>1.0000</td>\n",
       "      <td>Combat-related</td>\n",
       "      <td>Medium</td>\n",
       "      <td>Ahmadizadeh MJ, Rezaei M. Unilateral right and...</td>\n",
       "      <td>50480.0</td>\n",
       "      <td>2019</td>\n",
       "    </tr>\n",
       "    <tr>\n",
       "      <th>11</th>\n",
       "      <td>ahmadizadeh2018_C</td>\n",
       "      <td>Nonpharmacologic biological</td>\n",
       "      <td>PTSD</td>\n",
       "      <td>C</td>\n",
       "      <td>Control</td>\n",
       "      <td>NaN</td>\n",
       "      <td>Sham rTMS</td>\n",
       "      <td>Sham</td>\n",
       "      <td>No</td>\n",
       "      <td>Not Applicable</td>\n",
       "      <td>...</td>\n",
       "      <td>1.0</td>\n",
       "      <td>0.0</td>\n",
       "      <td>0.0000</td>\n",
       "      <td>NaN</td>\n",
       "      <td>1.0000</td>\n",
       "      <td>Combat-related</td>\n",
       "      <td>Medium</td>\n",
       "      <td>Ahmadizadeh MJ, Rezaei M. Unilateral right and...</td>\n",
       "      <td>50480.0</td>\n",
       "      <td>2019</td>\n",
       "    </tr>\n",
       "    <tr>\n",
       "      <th>12</th>\n",
       "      <td>ahmadizadeh2019_A</td>\n",
       "      <td>Nonpharmacologic biological</td>\n",
       "      <td>PTSD</td>\n",
       "      <td>A</td>\n",
       "      <td>PTSD</td>\n",
       "      <td>NaN</td>\n",
       "      <td>Transcranial direct current stimulation (tDCS)</td>\n",
       "      <td>Transcranial direct current stimulation (tDCS)</td>\n",
       "      <td>No</td>\n",
       "      <td>Not Applicable</td>\n",
       "      <td>...</td>\n",
       "      <td>NaN</td>\n",
       "      <td>1.0</td>\n",
       "      <td>0.6500</td>\n",
       "      <td>NaN</td>\n",
       "      <td>0.3500</td>\n",
       "      <td>NaN</td>\n",
       "      <td>Medium</td>\n",
       "      <td>Ahmadizadeh MJ, Rezaei M, Fitzgerald PB. Trans...</td>\n",
       "      <td>1545324.0</td>\n",
       "      <td>2020</td>\n",
       "    </tr>\n",
       "    <tr>\n",
       "      <th>13</th>\n",
       "      <td>ahmadizadeh2019_B</td>\n",
       "      <td>Nonpharmacologic biological</td>\n",
       "      <td>PTSD</td>\n",
       "      <td>B</td>\n",
       "      <td>Control</td>\n",
       "      <td>NaN</td>\n",
       "      <td>Sham transcranial direct current stimulation</td>\n",
       "      <td>Sham</td>\n",
       "      <td>No</td>\n",
       "      <td>Not Applicable</td>\n",
       "      <td>...</td>\n",
       "      <td>NaN</td>\n",
       "      <td>1.0</td>\n",
       "      <td>0.6500</td>\n",
       "      <td>NaN</td>\n",
       "      <td>0.3500</td>\n",
       "      <td>NaN</td>\n",
       "      <td>Medium</td>\n",
       "      <td>Ahmadizadeh MJ, Rezaei M, Fitzgerald PB. Trans...</td>\n",
       "      <td>1545324.0</td>\n",
       "      <td>2020</td>\n",
       "    </tr>\n",
       "    <tr>\n",
       "      <th>14</th>\n",
       "      <td>ahmadpanah2014_A</td>\n",
       "      <td>Pharmacotherapy</td>\n",
       "      <td>PTSD</td>\n",
       "      <td>A</td>\n",
       "      <td>PTSD</td>\n",
       "      <td>NaN</td>\n",
       "      <td>Prazosin</td>\n",
       "      <td>Prazosin</td>\n",
       "      <td>No</td>\n",
       "      <td>Not Applicable</td>\n",
       "      <td>...</td>\n",
       "      <td>NaN</td>\n",
       "      <td>1.0</td>\n",
       "      <td>0.2800</td>\n",
       "      <td>NaN</td>\n",
       "      <td>0.7200</td>\n",
       "      <td>Mixed: combat-related, accidents, natural or m...</td>\n",
       "      <td>Medium</td>\n",
       "      <td>Ahmadpanah M, Sabzeiee P, Hosseini SM, et al. ...</td>\n",
       "      <td>43996.0</td>\n",
       "      <td>2019</td>\n",
       "    </tr>\n",
       "    <tr>\n",
       "      <th>15</th>\n",
       "      <td>ahmadpanah2014_B</td>\n",
       "      <td>Pharmacotherapy</td>\n",
       "      <td>PTSD</td>\n",
       "      <td>B</td>\n",
       "      <td>PTSD</td>\n",
       "      <td>NaN</td>\n",
       "      <td>Hydroxyzine</td>\n",
       "      <td>Hydroxyzine</td>\n",
       "      <td>No</td>\n",
       "      <td>Not Applicable</td>\n",
       "      <td>...</td>\n",
       "      <td>NaN</td>\n",
       "      <td>1.0</td>\n",
       "      <td>0.2800</td>\n",
       "      <td>NaN</td>\n",
       "      <td>0.7200</td>\n",
       "      <td>Mixed: combat-related, accidents, natural or m...</td>\n",
       "      <td>Medium</td>\n",
       "      <td>Ahmadpanah M, Sabzeiee P, Hosseini SM, et al. ...</td>\n",
       "      <td>43996.0</td>\n",
       "      <td>2019</td>\n",
       "    </tr>\n",
       "    <tr>\n",
       "      <th>16</th>\n",
       "      <td>ahmadpanah2014_C</td>\n",
       "      <td>Pharmacotherapy</td>\n",
       "      <td>PTSD</td>\n",
       "      <td>C</td>\n",
       "      <td>Control</td>\n",
       "      <td>NaN</td>\n",
       "      <td>Placebo</td>\n",
       "      <td>Placebo</td>\n",
       "      <td>No</td>\n",
       "      <td>Not Applicable</td>\n",
       "      <td>...</td>\n",
       "      <td>NaN</td>\n",
       "      <td>1.0</td>\n",
       "      <td>0.2800</td>\n",
       "      <td>NaN</td>\n",
       "      <td>0.7200</td>\n",
       "      <td>Mixed: combat-related, accidents, natural or m...</td>\n",
       "      <td>Medium</td>\n",
       "      <td>Ahmadpanah M, Sabzeiee P, Hosseini SM, et al. ...</td>\n",
       "      <td>43996.0</td>\n",
       "      <td>2019</td>\n",
       "    </tr>\n",
       "    <tr>\n",
       "      <th>17</th>\n",
       "      <td>akbarian2015_A</td>\n",
       "      <td>Mixed: Psychotherapy &amp; pharmacotherapy</td>\n",
       "      <td>PTSD</td>\n",
       "      <td>A</td>\n",
       "      <td>PTSD</td>\n",
       "      <td>NaN</td>\n",
       "      <td>CBT</td>\n",
       "      <td>Trauma-focused cognitive behavioral therapy (T...</td>\n",
       "      <td>Yes</td>\n",
       "      <td>TF</td>\n",
       "      <td>...</td>\n",
       "      <td>NaN</td>\n",
       "      <td>1.0</td>\n",
       "      <td>0.7857</td>\n",
       "      <td>NaN</td>\n",
       "      <td>0.2143</td>\n",
       "      <td>Mixed: intimate partner violence, accidents, i...</td>\n",
       "      <td>Medium</td>\n",
       "      <td>Akbarian F, Bajoghli H, Haghighi M, et al. The...</td>\n",
       "      <td>43629.0</td>\n",
       "      <td>2019</td>\n",
       "    </tr>\n",
       "    <tr>\n",
       "      <th>18</th>\n",
       "      <td>akbarian2015_B</td>\n",
       "      <td>Mixed: Psychotherapy &amp; pharmacotherapy</td>\n",
       "      <td>PTSD</td>\n",
       "      <td>B</td>\n",
       "      <td>Control</td>\n",
       "      <td>NaN</td>\n",
       "      <td>Control condition (psychopharmacologic treatme...</td>\n",
       "      <td>Medication as usual</td>\n",
       "      <td>No</td>\n",
       "      <td>Not Applicable</td>\n",
       "      <td>...</td>\n",
       "      <td>NaN</td>\n",
       "      <td>1.0</td>\n",
       "      <td>0.7857</td>\n",
       "      <td>NaN</td>\n",
       "      <td>0.2143</td>\n",
       "      <td>Mixed: intimate partner violence, accidents, i...</td>\n",
       "      <td>Medium</td>\n",
       "      <td>Akbarian F, Bajoghli H, Haghighi M, et al. The...</td>\n",
       "      <td>43629.0</td>\n",
       "      <td>2019</td>\n",
       "    </tr>\n",
       "    <tr>\n",
       "      <th>19</th>\n",
       "      <td>akuchekian2004_A</td>\n",
       "      <td>Pharmacotherapy</td>\n",
       "      <td>PTSD</td>\n",
       "      <td>A</td>\n",
       "      <td>PTSD</td>\n",
       "      <td>NaN</td>\n",
       "      <td>Topiramate augmentation</td>\n",
       "      <td>Topiramate augmentation</td>\n",
       "      <td>No</td>\n",
       "      <td>Not Applicable</td>\n",
       "      <td>...</td>\n",
       "      <td>1.0</td>\n",
       "      <td>0.0</td>\n",
       "      <td>0.0000</td>\n",
       "      <td>NaN</td>\n",
       "      <td>1.0000</td>\n",
       "      <td>Combat-related</td>\n",
       "      <td>Medium</td>\n",
       "      <td>Akuchekian S, Amanat S. The Comparison of Topi...</td>\n",
       "      <td>50403.0</td>\n",
       "      <td>2019</td>\n",
       "    </tr>\n",
       "    <tr>\n",
       "      <th>20</th>\n",
       "      <td>akuchekian2004_B</td>\n",
       "      <td>Pharmacotherapy</td>\n",
       "      <td>PTSD</td>\n",
       "      <td>B</td>\n",
       "      <td>Control</td>\n",
       "      <td>NaN</td>\n",
       "      <td>Placebo augmentation</td>\n",
       "      <td>Placebo</td>\n",
       "      <td>No</td>\n",
       "      <td>Not Applicable</td>\n",
       "      <td>...</td>\n",
       "      <td>1.0</td>\n",
       "      <td>0.0</td>\n",
       "      <td>0.0000</td>\n",
       "      <td>NaN</td>\n",
       "      <td>1.0000</td>\n",
       "      <td>Combat-related</td>\n",
       "      <td>Medium</td>\n",
       "      <td>Akuchekian S, Amanat S. The Comparison of Topi...</td>\n",
       "      <td>50403.0</td>\n",
       "      <td>2019</td>\n",
       "    </tr>\n",
       "    <tr>\n",
       "      <th>21</th>\n",
       "      <td>aldahadha2012_A</td>\n",
       "      <td>Psychotherapy</td>\n",
       "      <td>PTSD</td>\n",
       "      <td>A</td>\n",
       "      <td>PTSD</td>\n",
       "      <td>NaN</td>\n",
       "      <td>EMDR</td>\n",
       "      <td>Eye Movement Desensitization and Reprocessing ...</td>\n",
       "      <td>Yes</td>\n",
       "      <td>TF</td>\n",
       "      <td>...</td>\n",
       "      <td>NaN</td>\n",
       "      <td>1.0</td>\n",
       "      <td>0.5294</td>\n",
       "      <td>NaN</td>\n",
       "      <td>0.4706</td>\n",
       "      <td>Accidents</td>\n",
       "      <td>High</td>\n",
       "      <td>Aldahadha B, Al-Harthy H, Sulaiman S. The Effi...</td>\n",
       "      <td>1548482.0</td>\n",
       "      <td>2019</td>\n",
       "    </tr>\n",
       "    <tr>\n",
       "      <th>22</th>\n",
       "      <td>aldahadha2012_B</td>\n",
       "      <td>Psychotherapy</td>\n",
       "      <td>PTSD</td>\n",
       "      <td>B</td>\n",
       "      <td>Control</td>\n",
       "      <td>NaN</td>\n",
       "      <td>Waitlist</td>\n",
       "      <td>Waitlist</td>\n",
       "      <td>No</td>\n",
       "      <td>Not Applicable</td>\n",
       "      <td>...</td>\n",
       "      <td>NaN</td>\n",
       "      <td>1.0</td>\n",
       "      <td>0.5294</td>\n",
       "      <td>NaN</td>\n",
       "      <td>0.4706</td>\n",
       "      <td>Accidents</td>\n",
       "      <td>High</td>\n",
       "      <td>Aldahadha B, Al-Harthy H, Sulaiman S. The Effi...</td>\n",
       "      <td>1548482.0</td>\n",
       "      <td>2019</td>\n",
       "    </tr>\n",
       "    <tr>\n",
       "      <th>23</th>\n",
       "      <td>alghamdi2015_A</td>\n",
       "      <td>Psychotherapy</td>\n",
       "      <td>PTSD</td>\n",
       "      <td>A</td>\n",
       "      <td>PTSD</td>\n",
       "      <td>NaN</td>\n",
       "      <td>NET</td>\n",
       "      <td>Narrative Exposure Therapy (NET)</td>\n",
       "      <td>Yes</td>\n",
       "      <td>TF</td>\n",
       "      <td>...</td>\n",
       "      <td>0.0</td>\n",
       "      <td>1.0</td>\n",
       "      <td>0.0000</td>\n",
       "      <td>NaN</td>\n",
       "      <td>1.0000</td>\n",
       "      <td>NaN</td>\n",
       "      <td>Medium</td>\n",
       "      <td>Alghamdi M, Hunt NC, Thomas SA. The effectiven...</td>\n",
       "      <td>46524.0</td>\n",
       "      <td>2020</td>\n",
       "    </tr>\n",
       "    <tr>\n",
       "      <th>24</th>\n",
       "      <td>alghamdi2015_B</td>\n",
       "      <td>Psychotherapy</td>\n",
       "      <td>PTSD</td>\n",
       "      <td>B</td>\n",
       "      <td>Control</td>\n",
       "      <td>NaN</td>\n",
       "      <td>Waitlist</td>\n",
       "      <td>Waitlist</td>\n",
       "      <td>No</td>\n",
       "      <td>Not Applicable</td>\n",
       "      <td>...</td>\n",
       "      <td>0.0</td>\n",
       "      <td>1.0</td>\n",
       "      <td>0.0000</td>\n",
       "      <td>NaN</td>\n",
       "      <td>1.0000</td>\n",
       "      <td>NaN</td>\n",
       "      <td>Medium</td>\n",
       "      <td>Alghamdi M, Hunt NC, Thomas SA. The effectiven...</td>\n",
       "      <td>46524.0</td>\n",
       "      <td>2020</td>\n",
       "    </tr>\n",
       "  </tbody>\n",
       "</table>\n",
       "<p>25 rows × 43 columns</p>\n",
       "</div>"
      ],
      "text/plain": [
       "             study_id                             Study Class  \\\n",
       "0      acarturk2016_A                           Psychotherapy   \n",
       "1      acarturk2016_B                           Psychotherapy   \n",
       "2       acierno2017_A                           Psychotherapy   \n",
       "3       acierno2017_B                           Psychotherapy   \n",
       "4      adenauer2011_A                           Psychotherapy   \n",
       "5      adenauer2011_B                           Psychotherapy   \n",
       "6        ahmadi2015_A              Mixed: Psychotherapy & CIH   \n",
       "7        ahmadi2015_B              Mixed: Psychotherapy & CIH   \n",
       "8        ahmadi2015_C              Mixed: Psychotherapy & CIH   \n",
       "9   ahmadizadeh2018_A             Nonpharmacologic biological   \n",
       "10  ahmadizadeh2018_B             Nonpharmacologic biological   \n",
       "11  ahmadizadeh2018_C             Nonpharmacologic biological   \n",
       "12  ahmadizadeh2019_A             Nonpharmacologic biological   \n",
       "13  ahmadizadeh2019_B             Nonpharmacologic biological   \n",
       "14   ahmadpanah2014_A                         Pharmacotherapy   \n",
       "15   ahmadpanah2014_B                         Pharmacotherapy   \n",
       "16   ahmadpanah2014_C                         Pharmacotherapy   \n",
       "17     akbarian2015_A  Mixed: Psychotherapy & pharmacotherapy   \n",
       "18     akbarian2015_B  Mixed: Psychotherapy & pharmacotherapy   \n",
       "19   akuchekian2004_A                         Pharmacotherapy   \n",
       "20   akuchekian2004_B                         Pharmacotherapy   \n",
       "21    aldahadha2012_A                           Psychotherapy   \n",
       "22    aldahadha2012_B                           Psychotherapy   \n",
       "23     alghamdi2015_A                           Psychotherapy   \n",
       "24     alghamdi2015_B                           Psychotherapy   \n",
       "\n",
       "   Treatment Focus (Study level) Intervention Group  \\\n",
       "0                           PTSD                  A   \n",
       "1                           PTSD                  B   \n",
       "2                           PTSD                  A   \n",
       "3                           PTSD                  B   \n",
       "4                           PTSD                  A   \n",
       "5                           PTSD                  B   \n",
       "6                           PTSD                  A   \n",
       "7                           PTSD                  B   \n",
       "8                           PTSD                  C   \n",
       "9                           PTSD                  A   \n",
       "10                          PTSD                  B   \n",
       "11                          PTSD                  C   \n",
       "12                          PTSD                  A   \n",
       "13                          PTSD                  B   \n",
       "14                          PTSD                  A   \n",
       "15                          PTSD                  B   \n",
       "16                          PTSD                  C   \n",
       "17                          PTSD                  A   \n",
       "18                          PTSD                  B   \n",
       "19                          PTSD                  A   \n",
       "20                          PTSD                  B   \n",
       "21                          PTSD                  A   \n",
       "22                          PTSD                  B   \n",
       "23                          PTSD                  A   \n",
       "24                          PTSD                  B   \n",
       "\n",
       "   Treatment Focus (Arm level) Treatment Focus Subclass  \\\n",
       "0                         PTSD                      NaN   \n",
       "1                      Control                      NaN   \n",
       "2                         PTSD                      NaN   \n",
       "3                         PTSD                      NaN   \n",
       "4                         PTSD                      NaN   \n",
       "5                      Control                      NaN   \n",
       "6                         PTSD                      NaN   \n",
       "7                         PTSD                      NaN   \n",
       "8                      Control                      NaN   \n",
       "9                         PTSD                      NaN   \n",
       "10                        PTSD                      NaN   \n",
       "11                     Control                      NaN   \n",
       "12                        PTSD                      NaN   \n",
       "13                     Control                      NaN   \n",
       "14                        PTSD                      NaN   \n",
       "15                        PTSD                      NaN   \n",
       "16                     Control                      NaN   \n",
       "17                        PTSD                      NaN   \n",
       "18                     Control                      NaN   \n",
       "19                        PTSD                      NaN   \n",
       "20                     Control                      NaN   \n",
       "21                        PTSD                      NaN   \n",
       "22                     Control                      NaN   \n",
       "23                        PTSD                      NaN   \n",
       "24                     Control                      NaN   \n",
       "\n",
       "                                       Treatment Name  \\\n",
       "0              EMDR Recent Traumatic Episode Protocol   \n",
       "1                                            Waitlist   \n",
       "2                              PE delivered in-person   \n",
       "3              PE delivered via home-based telehealth   \n",
       "4                                                 NET   \n",
       "5                                            Waitlist   \n",
       "6                                                EMDR   \n",
       "7                                 REM Desensitization   \n",
       "8                                             Control   \n",
       "9                                      Bilateral rTMS   \n",
       "10                                    Unilateral rTMS   \n",
       "11                                          Sham rTMS   \n",
       "12     Transcranial direct current stimulation (tDCS)   \n",
       "13       Sham transcranial direct current stimulation   \n",
       "14                                           Prazosin   \n",
       "15                                        Hydroxyzine   \n",
       "16                                            Placebo   \n",
       "17                                                CBT   \n",
       "18  Control condition (psychopharmacologic treatme...   \n",
       "19                            Topiramate augmentation   \n",
       "20                               Placebo augmentation   \n",
       "21                                               EMDR   \n",
       "22                                           Waitlist   \n",
       "23                                                NET   \n",
       "24                                           Waitlist   \n",
       "\n",
       "                                NCPTSD Treatment Name Psychotherapy  \\\n",
       "0   Eye Movement Desensitization and Reprocessing ...           Yes   \n",
       "1                                            Waitlist            No   \n",
       "2                             Prolonged Exposure (PE)           Yes   \n",
       "3                             Prolonged Exposure (PE)           Yes   \n",
       "4                    Narrative Exposure Therapy (NET)           Yes   \n",
       "5                                            Waitlist            No   \n",
       "6   Eye Movement Desensitization and Reprocessing ...           Yes   \n",
       "7              Rapid Eye Movement (REM) Desentization            No   \n",
       "8                                            Waitlist            No   \n",
       "9             Transcranial magnetic stimualtion (TMS)            No   \n",
       "10            Transcranial magnetic stimualtion (TMS)            No   \n",
       "11                                               Sham            No   \n",
       "12     Transcranial direct current stimulation (tDCS)            No   \n",
       "13                                               Sham            No   \n",
       "14                                           Prazosin            No   \n",
       "15                                        Hydroxyzine            No   \n",
       "16                                            Placebo            No   \n",
       "17  Trauma-focused cognitive behavioral therapy (T...           Yes   \n",
       "18                                Medication as usual            No   \n",
       "19                            Topiramate augmentation            No   \n",
       "20                                            Placebo            No   \n",
       "21  Eye Movement Desensitization and Reprocessing ...           Yes   \n",
       "22                                           Waitlist            No   \n",
       "23                   Narrative Exposure Therapy (NET)           Yes   \n",
       "24                                           Waitlist            No   \n",
       "\n",
       "   Psychotherapy Subclass  ... Veteran Percent (Study level)  \\\n",
       "0                      TF  ...                           NaN   \n",
       "1          Not Applicable  ...                           NaN   \n",
       "2                      TF  ...                           1.0   \n",
       "3                      TF  ...                           1.0   \n",
       "4                      TF  ...                           NaN   \n",
       "5          Not Applicable  ...                           NaN   \n",
       "6                      TF  ...                           0.0   \n",
       "7          Not Applicable  ...                           0.0   \n",
       "8          Not Applicable  ...                           0.0   \n",
       "9          Not Applicable  ...                           1.0   \n",
       "10         Not Applicable  ...                           1.0   \n",
       "11         Not Applicable  ...                           1.0   \n",
       "12         Not Applicable  ...                           NaN   \n",
       "13         Not Applicable  ...                           NaN   \n",
       "14         Not Applicable  ...                           NaN   \n",
       "15         Not Applicable  ...                           NaN   \n",
       "16         Not Applicable  ...                           NaN   \n",
       "17                     TF  ...                           NaN   \n",
       "18         Not Applicable  ...                           NaN   \n",
       "19         Not Applicable  ...                           1.0   \n",
       "20         Not Applicable  ...                           1.0   \n",
       "21                     TF  ...                           NaN   \n",
       "22         Not Applicable  ...                           NaN   \n",
       "23                     TF  ...                           0.0   \n",
       "24         Not Applicable  ...                           0.0   \n",
       "\n",
       "   Community Percent (Study level) Female Percent (Study level)  \\\n",
       "0                              1.0                       0.7449   \n",
       "1                              1.0                       0.7449   \n",
       "2                              NaN                       0.0379   \n",
       "3                              NaN                       0.0379   \n",
       "4                              1.0                       0.4412   \n",
       "5                              1.0                       0.4412   \n",
       "6                              0.0                       0.0000   \n",
       "7                              0.0                       0.0000   \n",
       "8                              0.0                       0.0000   \n",
       "9                              0.0                       0.0000   \n",
       "10                             0.0                       0.0000   \n",
       "11                             0.0                       0.0000   \n",
       "12                             1.0                       0.6500   \n",
       "13                             1.0                       0.6500   \n",
       "14                             1.0                       0.2800   \n",
       "15                             1.0                       0.2800   \n",
       "16                             1.0                       0.2800   \n",
       "17                             1.0                       0.7857   \n",
       "18                             1.0                       0.7857   \n",
       "19                             0.0                       0.0000   \n",
       "20                             0.0                       0.0000   \n",
       "21                             1.0                       0.5294   \n",
       "22                             1.0                       0.5294   \n",
       "23                             1.0                       0.0000   \n",
       "24                             1.0                       0.0000   \n",
       "\n",
       "   Female Percent Detail (Study level) Male Percent (Study level)  \\\n",
       "0                                  NaN                     0.2551   \n",
       "1                                  NaN                     0.2551   \n",
       "2                                  NaN                     0.9621   \n",
       "3                                  NaN                     0.9621   \n",
       "4                                  NaN                     0.5588   \n",
       "5                                  NaN                     0.5588   \n",
       "6                                  NaN                     1.0000   \n",
       "7                                  NaN                     1.0000   \n",
       "8                                  NaN                     1.0000   \n",
       "9                                  NaN                     1.0000   \n",
       "10                                 NaN                     1.0000   \n",
       "11                                 NaN                     1.0000   \n",
       "12                                 NaN                     0.3500   \n",
       "13                                 NaN                     0.3500   \n",
       "14                                 NaN                     0.7200   \n",
       "15                                 NaN                     0.7200   \n",
       "16                                 NaN                     0.7200   \n",
       "17                                 NaN                     0.2143   \n",
       "18                                 NaN                     0.2143   \n",
       "19                                 NaN                     1.0000   \n",
       "20                                 NaN                     1.0000   \n",
       "21                                 NaN                     0.4706   \n",
       "22                                 NaN                     0.4706   \n",
       "23                                 NaN                     1.0000   \n",
       "24                                 NaN                     1.0000   \n",
       "\n",
       "                            Trauma Type (Study level)  \\\n",
       "0    Terrorism/political violence/forced displacement   \n",
       "1    Terrorism/political violence/forced displacement   \n",
       "2                                      Combat-related   \n",
       "3                                      Combat-related   \n",
       "4    Terrorism/political violence/forced displacement   \n",
       "5    Terrorism/political violence/forced displacement   \n",
       "6                                      Combat-related   \n",
       "7                                      Combat-related   \n",
       "8                                      Combat-related   \n",
       "9                                      Combat-related   \n",
       "10                                     Combat-related   \n",
       "11                                     Combat-related   \n",
       "12                                                NaN   \n",
       "13                                                NaN   \n",
       "14  Mixed: combat-related, accidents, natural or m...   \n",
       "15  Mixed: combat-related, accidents, natural or m...   \n",
       "16  Mixed: combat-related, accidents, natural or m...   \n",
       "17  Mixed: intimate partner violence, accidents, i...   \n",
       "18  Mixed: intimate partner violence, accidents, i...   \n",
       "19                                     Combat-related   \n",
       "20                                     Combat-related   \n",
       "21                                          Accidents   \n",
       "22                                          Accidents   \n",
       "23                                                NaN   \n",
       "24                                                NaN   \n",
       "\n",
       "   Risk of Bias Rating (Study level)  \\\n",
       "0                             Medium   \n",
       "1                             Medium   \n",
       "2                             Medium   \n",
       "3                             Medium   \n",
       "4                               High   \n",
       "5                               High   \n",
       "6                               High   \n",
       "7                               High   \n",
       "8                               High   \n",
       "9                             Medium   \n",
       "10                            Medium   \n",
       "11                            Medium   \n",
       "12                            Medium   \n",
       "13                            Medium   \n",
       "14                            Medium   \n",
       "15                            Medium   \n",
       "16                            Medium   \n",
       "17                            Medium   \n",
       "18                            Medium   \n",
       "19                            Medium   \n",
       "20                            Medium   \n",
       "21                              High   \n",
       "22                              High   \n",
       "23                            Medium   \n",
       "24                            Medium   \n",
       "\n",
       "                                             Citation PTSDPubs ID  \\\n",
       "0   Acarturk C, Konuk E, Cetinkaya M, et al. The e...     45262.0   \n",
       "1   Acarturk C, Konuk E, Cetinkaya M, et al. The e...     45262.0   \n",
       "2   Acierno RE, Knapp RG, Tuerk PW, et al. A non-i...     45948.0   \n",
       "3   Acierno RE, Knapp RG, Tuerk PW, et al. A non-i...     45948.0   \n",
       "4   Adenauer H, Catani C, Gola H, et al. Narrative...     37889.0   \n",
       "5   Adenauer H, Catani C, Gola H, et al. Narrative...     37889.0   \n",
       "6   Ahmadi K, Hazrati M, Ahmadizadeh MJ, et al. RE...     46896.0   \n",
       "7   Ahmadi K, Hazrati M, Ahmadizadeh MJ, et al. RE...     46896.0   \n",
       "8   Ahmadi K, Hazrati M, Ahmadizadeh MJ, et al. RE...     46896.0   \n",
       "9   Ahmadizadeh MJ, Rezaei M. Unilateral right and...     50480.0   \n",
       "10  Ahmadizadeh MJ, Rezaei M. Unilateral right and...     50480.0   \n",
       "11  Ahmadizadeh MJ, Rezaei M. Unilateral right and...     50480.0   \n",
       "12  Ahmadizadeh MJ, Rezaei M, Fitzgerald PB. Trans...   1545324.0   \n",
       "13  Ahmadizadeh MJ, Rezaei M, Fitzgerald PB. Trans...   1545324.0   \n",
       "14  Ahmadpanah M, Sabzeiee P, Hosseini SM, et al. ...     43996.0   \n",
       "15  Ahmadpanah M, Sabzeiee P, Hosseini SM, et al. ...     43996.0   \n",
       "16  Ahmadpanah M, Sabzeiee P, Hosseini SM, et al. ...     43996.0   \n",
       "17  Akbarian F, Bajoghli H, Haghighi M, et al. The...     43629.0   \n",
       "18  Akbarian F, Bajoghli H, Haghighi M, et al. The...     43629.0   \n",
       "19  Akuchekian S, Amanat S. The Comparison of Topi...     50403.0   \n",
       "20  Akuchekian S, Amanat S. The Comparison of Topi...     50403.0   \n",
       "21  Aldahadha B, Al-Harthy H, Sulaiman S. The Effi...   1548482.0   \n",
       "22  Aldahadha B, Al-Harthy H, Sulaiman S. The Effi...   1548482.0   \n",
       "23  Alghamdi M, Hunt NC, Thomas SA. The effectiven...     46524.0   \n",
       "24  Alghamdi M, Hunt NC, Thomas SA. The effectiven...     46524.0   \n",
       "\n",
       "   Year Added to PTSD-Repository  \n",
       "0                           2019  \n",
       "1                           2019  \n",
       "2                           2019  \n",
       "3                           2019  \n",
       "4                           2019  \n",
       "5                           2019  \n",
       "6                           2019  \n",
       "7                           2019  \n",
       "8                           2019  \n",
       "9                           2019  \n",
       "10                          2019  \n",
       "11                          2019  \n",
       "12                          2020  \n",
       "13                          2020  \n",
       "14                          2019  \n",
       "15                          2019  \n",
       "16                          2019  \n",
       "17                          2019  \n",
       "18                          2019  \n",
       "19                          2019  \n",
       "20                          2019  \n",
       "21                          2019  \n",
       "22                          2019  \n",
       "23                          2020  \n",
       "24                          2020  \n",
       "\n",
       "[25 rows x 43 columns]"
      ]
     },
     "execution_count": 4,
     "metadata": {},
     "output_type": "execute_result"
    }
   ],
   "source": [
    "harms.head(25)"
   ]
  },
  {
   "cell_type": "code",
   "execution_count": 5,
   "metadata": {},
   "outputs": [
    {
     "name": "stdout",
     "output_type": "stream",
     "text": [
      "<class 'pandas.core.frame.DataFrame'>\n",
      "RangeIndex: 864 entries, 0 to 863\n",
      "Data columns (total 43 columns):\n",
      " #   Column                                      Non-Null Count  Dtype  \n",
      "---  ------                                      --------------  -----  \n",
      " 0   study_id                                    864 non-null    object \n",
      " 1   Study Class                                 864 non-null    object \n",
      " 2   Treatment Focus (Study level)               864 non-null    object \n",
      " 3   Intervention Group                          864 non-null    object \n",
      " 4   Treatment Focus (Arm level)                 861 non-null    object \n",
      " 5   Treatment Focus Subclass                    55 non-null     object \n",
      " 6   Treatment Name                              861 non-null    object \n",
      " 7   NCPTSD Treatment Name                       861 non-null    object \n",
      " 8   Psychotherapy                               861 non-null    object \n",
      " 9   Psychotherapy Subclass                      861 non-null    object \n",
      " 10  Pharmacotherapy                             861 non-null    object \n",
      " 11  Pharmacotherapy Subclass                    861 non-null    object \n",
      " 12  CIH                                         861 non-null    object \n",
      " 13  CIH Subclass                                861 non-null    object \n",
      " 14  Nonpharmacologic Biologic                   861 non-null    object \n",
      " 15  Nonpharmacologic Cognitive                  861 non-null    object \n",
      " 16  Control                                     861 non-null    object \n",
      " 17  Other                                       861 non-null    object \n",
      " 18  Collaborative Care                          861 non-null    object \n",
      " 19  Format                                      756 non-null    object \n",
      " 20  Delivery Method                             759 non-null    object \n",
      " 21  Arm N Randomized                            823 non-null    float64\n",
      " 22  Serious Adverse Event Percent               226 non-null    float64\n",
      " 23  Serious Adverse Event Detail                24 non-null     object \n",
      " 24  Withdrawal Due to Adverse Events Percent    322 non-null    float64\n",
      " 25  Withdrawal Due to Adverse Events Detail     3 non-null      object \n",
      " 26  Attempted Suicide Percent                   73 non-null     float64\n",
      " 27  Attempted Suicide Detail                    6 non-null      object \n",
      " 28  Completed Suicide Percent                   104 non-null    float64\n",
      " 29  Completed Suicide Detail                    4 non-null      object \n",
      " 30  Harms Comment                               70 non-null     object \n",
      " 31  Military Status (Study level)               842 non-null    object \n",
      " 32  Active Duty Military Percent (Study level)  368 non-null    float64\n",
      " 33  Veteran Percent (Study level)               402 non-null    float64\n",
      " 34  Community Percent (Study level)             810 non-null    float64\n",
      " 35  Female Percent (Study level)                811 non-null    float64\n",
      " 36  Female Percent Detail (Study level)         15 non-null     object \n",
      " 37  Male Percent (Study level)                  811 non-null    float64\n",
      " 38  Trauma Type (Study level)                   742 non-null    object \n",
      " 39  Risk of Bias Rating (Study level)           864 non-null    object \n",
      " 40  Citation                                    864 non-null    object \n",
      " 41  PTSDPubs ID                                 807 non-null    float64\n",
      " 42  Year Added to PTSD-Repository               864 non-null    int64  \n",
      "dtypes: float64(11), int64(1), object(31)\n",
      "memory usage: 290.4+ KB\n"
     ]
    }
   ],
   "source": [
    "harms.info()"
   ]
  },
  {
   "cell_type": "code",
   "execution_count": 6,
   "metadata": {},
   "outputs": [
    {
     "data": {
      "text/html": [
       "<div>\n",
       "<style scoped>\n",
       "    .dataframe tbody tr th:only-of-type {\n",
       "        vertical-align: middle;\n",
       "    }\n",
       "\n",
       "    .dataframe tbody tr th {\n",
       "        vertical-align: top;\n",
       "    }\n",
       "\n",
       "    .dataframe thead th {\n",
       "        text-align: right;\n",
       "    }\n",
       "</style>\n",
       "<table border=\"1\" class=\"dataframe\">\n",
       "  <thead>\n",
       "    <tr style=\"text-align: right;\">\n",
       "      <th></th>\n",
       "      <th>Arm N Randomized</th>\n",
       "      <th>Serious Adverse Event Percent</th>\n",
       "      <th>Withdrawal Due to Adverse Events Percent</th>\n",
       "      <th>Attempted Suicide Percent</th>\n",
       "      <th>Completed Suicide Percent</th>\n",
       "      <th>Active Duty Military Percent (Study level)</th>\n",
       "      <th>Veteran Percent (Study level)</th>\n",
       "      <th>Community Percent (Study level)</th>\n",
       "      <th>Female Percent (Study level)</th>\n",
       "      <th>Male Percent (Study level)</th>\n",
       "      <th>PTSDPubs ID</th>\n",
       "      <th>Year Added to PTSD-Repository</th>\n",
       "    </tr>\n",
       "  </thead>\n",
       "  <tbody>\n",
       "    <tr>\n",
       "      <th>count</th>\n",
       "      <td>823.000000</td>\n",
       "      <td>226.000000</td>\n",
       "      <td>322.000000</td>\n",
       "      <td>73.00000</td>\n",
       "      <td>104.000000</td>\n",
       "      <td>368.000000</td>\n",
       "      <td>402.000000</td>\n",
       "      <td>810.000000</td>\n",
       "      <td>811.000000</td>\n",
       "      <td>811.000000</td>\n",
       "      <td>8.070000e+02</td>\n",
       "      <td>864.000000</td>\n",
       "    </tr>\n",
       "    <tr>\n",
       "      <th>mean</th>\n",
       "      <td>38.354800</td>\n",
       "      <td>0.026473</td>\n",
       "      <td>0.056412</td>\n",
       "      <td>0.00786</td>\n",
       "      <td>0.000410</td>\n",
       "      <td>0.092459</td>\n",
       "      <td>0.712438</td>\n",
       "      <td>0.623453</td>\n",
       "      <td>0.465688</td>\n",
       "      <td>0.534569</td>\n",
       "      <td>9.763631e+04</td>\n",
       "      <td>2019.224537</td>\n",
       "    </tr>\n",
       "    <tr>\n",
       "      <th>std</th>\n",
       "      <td>43.253376</td>\n",
       "      <td>0.066578</td>\n",
       "      <td>0.091492</td>\n",
       "      <td>0.01757</td>\n",
       "      <td>0.003664</td>\n",
       "      <td>0.278535</td>\n",
       "      <td>0.428940</td>\n",
       "      <td>0.475182</td>\n",
       "      <td>0.354237</td>\n",
       "      <td>0.354136</td>\n",
       "      <td>2.938470e+05</td>\n",
       "      <td>0.417519</td>\n",
       "    </tr>\n",
       "    <tr>\n",
       "      <th>min</th>\n",
       "      <td>2.000000</td>\n",
       "      <td>0.000000</td>\n",
       "      <td>0.000000</td>\n",
       "      <td>0.00000</td>\n",
       "      <td>0.000000</td>\n",
       "      <td>0.000000</td>\n",
       "      <td>0.000000</td>\n",
       "      <td>0.000000</td>\n",
       "      <td>0.000000</td>\n",
       "      <td>0.000000</td>\n",
       "      <td>7.580000e+02</td>\n",
       "      <td>2019.000000</td>\n",
       "    </tr>\n",
       "    <tr>\n",
       "      <th>25%</th>\n",
       "      <td>15.000000</td>\n",
       "      <td>0.000000</td>\n",
       "      <td>0.000000</td>\n",
       "      <td>0.00000</td>\n",
       "      <td>0.000000</td>\n",
       "      <td>0.000000</td>\n",
       "      <td>0.200000</td>\n",
       "      <td>0.000000</td>\n",
       "      <td>0.100400</td>\n",
       "      <td>0.227300</td>\n",
       "      <td>2.964400e+04</td>\n",
       "      <td>2019.000000</td>\n",
       "    </tr>\n",
       "    <tr>\n",
       "      <th>50%</th>\n",
       "      <td>26.000000</td>\n",
       "      <td>0.000000</td>\n",
       "      <td>0.003400</td>\n",
       "      <td>0.00000</td>\n",
       "      <td>0.000000</td>\n",
       "      <td>0.000000</td>\n",
       "      <td>1.000000</td>\n",
       "      <td>1.000000</td>\n",
       "      <td>0.500000</td>\n",
       "      <td>0.500000</td>\n",
       "      <td>4.188600e+04</td>\n",
       "      <td>2019.000000</td>\n",
       "    </tr>\n",
       "    <tr>\n",
       "      <th>75%</th>\n",
       "      <td>45.000000</td>\n",
       "      <td>0.030075</td>\n",
       "      <td>0.084650</td>\n",
       "      <td>0.00710</td>\n",
       "      <td>0.000000</td>\n",
       "      <td>0.000000</td>\n",
       "      <td>1.000000</td>\n",
       "      <td>1.000000</td>\n",
       "      <td>0.772700</td>\n",
       "      <td>0.899600</td>\n",
       "      <td>4.819000e+04</td>\n",
       "      <td>2019.000000</td>\n",
       "    </tr>\n",
       "    <tr>\n",
       "      <th>max</th>\n",
       "      <td>472.000000</td>\n",
       "      <td>0.467100</td>\n",
       "      <td>0.615400</td>\n",
       "      <td>0.10420</td>\n",
       "      <td>0.037000</td>\n",
       "      <td>1.000000</td>\n",
       "      <td>1.000000</td>\n",
       "      <td>1.000000</td>\n",
       "      <td>1.000000</td>\n",
       "      <td>1.000000</td>\n",
       "      <td>1.551835e+06</td>\n",
       "      <td>2020.000000</td>\n",
       "    </tr>\n",
       "  </tbody>\n",
       "</table>\n",
       "</div>"
      ],
      "text/plain": [
       "       Arm N Randomized  Serious Adverse Event Percent  \\\n",
       "count        823.000000                     226.000000   \n",
       "mean          38.354800                       0.026473   \n",
       "std           43.253376                       0.066578   \n",
       "min            2.000000                       0.000000   \n",
       "25%           15.000000                       0.000000   \n",
       "50%           26.000000                       0.000000   \n",
       "75%           45.000000                       0.030075   \n",
       "max          472.000000                       0.467100   \n",
       "\n",
       "       Withdrawal Due to Adverse Events Percent  Attempted Suicide Percent  \\\n",
       "count                                322.000000                   73.00000   \n",
       "mean                                   0.056412                    0.00786   \n",
       "std                                    0.091492                    0.01757   \n",
       "min                                    0.000000                    0.00000   \n",
       "25%                                    0.000000                    0.00000   \n",
       "50%                                    0.003400                    0.00000   \n",
       "75%                                    0.084650                    0.00710   \n",
       "max                                    0.615400                    0.10420   \n",
       "\n",
       "       Completed Suicide Percent  Active Duty Military Percent (Study level)  \\\n",
       "count                 104.000000                                  368.000000   \n",
       "mean                    0.000410                                    0.092459   \n",
       "std                     0.003664                                    0.278535   \n",
       "min                     0.000000                                    0.000000   \n",
       "25%                     0.000000                                    0.000000   \n",
       "50%                     0.000000                                    0.000000   \n",
       "75%                     0.000000                                    0.000000   \n",
       "max                     0.037000                                    1.000000   \n",
       "\n",
       "       Veteran Percent (Study level)  Community Percent (Study level)  \\\n",
       "count                     402.000000                       810.000000   \n",
       "mean                        0.712438                         0.623453   \n",
       "std                         0.428940                         0.475182   \n",
       "min                         0.000000                         0.000000   \n",
       "25%                         0.200000                         0.000000   \n",
       "50%                         1.000000                         1.000000   \n",
       "75%                         1.000000                         1.000000   \n",
       "max                         1.000000                         1.000000   \n",
       "\n",
       "       Female Percent (Study level)  Male Percent (Study level)   PTSDPubs ID  \\\n",
       "count                    811.000000                  811.000000  8.070000e+02   \n",
       "mean                       0.465688                    0.534569  9.763631e+04   \n",
       "std                        0.354237                    0.354136  2.938470e+05   \n",
       "min                        0.000000                    0.000000  7.580000e+02   \n",
       "25%                        0.100400                    0.227300  2.964400e+04   \n",
       "50%                        0.500000                    0.500000  4.188600e+04   \n",
       "75%                        0.772700                    0.899600  4.819000e+04   \n",
       "max                        1.000000                    1.000000  1.551835e+06   \n",
       "\n",
       "       Year Added to PTSD-Repository  \n",
       "count                     864.000000  \n",
       "mean                     2019.224537  \n",
       "std                         0.417519  \n",
       "min                      2019.000000  \n",
       "25%                      2019.000000  \n",
       "50%                      2019.000000  \n",
       "75%                      2019.000000  \n",
       "max                      2020.000000  "
      ]
     },
     "execution_count": 6,
     "metadata": {},
     "output_type": "execute_result"
    }
   ],
   "source": [
    "harms.describe()"
   ]
  },
  {
   "cell_type": "code",
   "execution_count": 7,
   "metadata": {},
   "outputs": [
    {
     "data": {
      "text/plain": [
       "(864, 43)"
      ]
     },
     "execution_count": 7,
     "metadata": {},
     "output_type": "execute_result"
    }
   ],
   "source": [
    "harms.shape"
   ]
  },
  {
   "cell_type": "code",
   "execution_count": 8,
   "metadata": {},
   "outputs": [
    {
     "data": {
      "text/plain": [
       "Index(['study_id', 'Study Class', 'Treatment Focus (Study level)',\n",
       "       'Intervention Group', 'Treatment Focus (Arm level)',\n",
       "       'Treatment Focus Subclass', 'Treatment Name', 'NCPTSD Treatment Name',\n",
       "       'Psychotherapy', 'Psychotherapy Subclass', 'Pharmacotherapy',\n",
       "       'Pharmacotherapy Subclass', 'CIH', 'CIH Subclass',\n",
       "       'Nonpharmacologic Biologic', 'Nonpharmacologic Cognitive', 'Control',\n",
       "       'Other', 'Collaborative Care', 'Format', 'Delivery Method',\n",
       "       'Arm N Randomized', 'Serious Adverse Event Percent',\n",
       "       'Serious Adverse Event Detail',\n",
       "       'Withdrawal Due to Adverse Events Percent',\n",
       "       'Withdrawal Due to Adverse Events Detail', 'Attempted Suicide Percent',\n",
       "       'Attempted Suicide Detail', 'Completed Suicide Percent',\n",
       "       'Completed Suicide Detail', 'Harms Comment',\n",
       "       'Military Status (Study level)',\n",
       "       'Active Duty Military Percent (Study level)',\n",
       "       'Veteran Percent (Study level)', 'Community Percent (Study level)',\n",
       "       'Female Percent (Study level)', 'Female Percent Detail (Study level)',\n",
       "       'Male Percent (Study level)', 'Trauma Type (Study level)',\n",
       "       'Risk of Bias Rating (Study level)', 'Citation', 'PTSDPubs ID',\n",
       "       'Year Added to PTSD-Repository'],\n",
       "      dtype='object')"
      ]
     },
     "execution_count": 8,
     "metadata": {},
     "output_type": "execute_result"
    }
   ],
   "source": [
    "harms.columns"
   ]
  },
  {
   "cell_type": "code",
   "execution_count": 9,
   "metadata": {},
   "outputs": [
    {
     "data": {
      "image/png": "[encoded data removed]",
      "text/plain": [
       "<Figure size 1440x1440 with 12 Axes>"
      ]
     },
     "metadata": {
      "needs_background": "light"
     },
     "output_type": "display_data"
    }
   ],
   "source": [
    "harms.hist(figsize=(20,20),color = \"skyblue\")\n",
    "plt.show()"
   ]
  },
  {
   "cell_type": "markdown",
   "metadata": {},
   "source": [
    "# Isolating ID's & DV for statistical analysis."
   ]
  },
  {
   "cell_type": "code",
   "execution_count": 10,
   "metadata": {},
   "outputs": [],
   "source": [
    "h2=harms[['Completed Suicide Percent', 'Attempted Suicide Percent', 'Veteran Percent (Study level)']]"
   ]
  },
  {
   "cell_type": "code",
   "execution_count": 11,
   "metadata": {},
   "outputs": [
    {
     "data": {
      "text/html": [
       "<div>\n",
       "<style scoped>\n",
       "    .dataframe tbody tr th:only-of-type {\n",
       "        vertical-align: middle;\n",
       "    }\n",
       "\n",
       "    .dataframe tbody tr th {\n",
       "        vertical-align: top;\n",
       "    }\n",
       "\n",
       "    .dataframe thead th {\n",
       "        text-align: right;\n",
       "    }\n",
       "</style>\n",
       "<table border=\"1\" class=\"dataframe\">\n",
       "  <thead>\n",
       "    <tr style=\"text-align: right;\">\n",
       "      <th></th>\n",
       "      <th>Completed Suicide Percent</th>\n",
       "      <th>Attempted Suicide Percent</th>\n",
       "      <th>Veteran Percent (Study level)</th>\n",
       "    </tr>\n",
       "  </thead>\n",
       "  <tbody>\n",
       "    <tr>\n",
       "      <th>0</th>\n",
       "      <td>0.0</td>\n",
       "      <td>NaN</td>\n",
       "      <td>NaN</td>\n",
       "    </tr>\n",
       "    <tr>\n",
       "      <th>1</th>\n",
       "      <td>0.0</td>\n",
       "      <td>NaN</td>\n",
       "      <td>NaN</td>\n",
       "    </tr>\n",
       "    <tr>\n",
       "      <th>2</th>\n",
       "      <td>NaN</td>\n",
       "      <td>NaN</td>\n",
       "      <td>1.0</td>\n",
       "    </tr>\n",
       "    <tr>\n",
       "      <th>3</th>\n",
       "      <td>NaN</td>\n",
       "      <td>NaN</td>\n",
       "      <td>1.0</td>\n",
       "    </tr>\n",
       "    <tr>\n",
       "      <th>4</th>\n",
       "      <td>NaN</td>\n",
       "      <td>NaN</td>\n",
       "      <td>NaN</td>\n",
       "    </tr>\n",
       "    <tr>\n",
       "      <th>5</th>\n",
       "      <td>NaN</td>\n",
       "      <td>NaN</td>\n",
       "      <td>NaN</td>\n",
       "    </tr>\n",
       "    <tr>\n",
       "      <th>6</th>\n",
       "      <td>NaN</td>\n",
       "      <td>NaN</td>\n",
       "      <td>0.0</td>\n",
       "    </tr>\n",
       "    <tr>\n",
       "      <th>7</th>\n",
       "      <td>NaN</td>\n",
       "      <td>NaN</td>\n",
       "      <td>0.0</td>\n",
       "    </tr>\n",
       "    <tr>\n",
       "      <th>8</th>\n",
       "      <td>NaN</td>\n",
       "      <td>NaN</td>\n",
       "      <td>0.0</td>\n",
       "    </tr>\n",
       "    <tr>\n",
       "      <th>9</th>\n",
       "      <td>NaN</td>\n",
       "      <td>NaN</td>\n",
       "      <td>1.0</td>\n",
       "    </tr>\n",
       "    <tr>\n",
       "      <th>10</th>\n",
       "      <td>NaN</td>\n",
       "      <td>NaN</td>\n",
       "      <td>1.0</td>\n",
       "    </tr>\n",
       "    <tr>\n",
       "      <th>11</th>\n",
       "      <td>NaN</td>\n",
       "      <td>NaN</td>\n",
       "      <td>1.0</td>\n",
       "    </tr>\n",
       "    <tr>\n",
       "      <th>12</th>\n",
       "      <td>NaN</td>\n",
       "      <td>NaN</td>\n",
       "      <td>NaN</td>\n",
       "    </tr>\n",
       "    <tr>\n",
       "      <th>13</th>\n",
       "      <td>NaN</td>\n",
       "      <td>NaN</td>\n",
       "      <td>NaN</td>\n",
       "    </tr>\n",
       "    <tr>\n",
       "      <th>14</th>\n",
       "      <td>NaN</td>\n",
       "      <td>NaN</td>\n",
       "      <td>NaN</td>\n",
       "    </tr>\n",
       "    <tr>\n",
       "      <th>15</th>\n",
       "      <td>NaN</td>\n",
       "      <td>NaN</td>\n",
       "      <td>NaN</td>\n",
       "    </tr>\n",
       "    <tr>\n",
       "      <th>16</th>\n",
       "      <td>NaN</td>\n",
       "      <td>NaN</td>\n",
       "      <td>NaN</td>\n",
       "    </tr>\n",
       "    <tr>\n",
       "      <th>17</th>\n",
       "      <td>NaN</td>\n",
       "      <td>NaN</td>\n",
       "      <td>NaN</td>\n",
       "    </tr>\n",
       "    <tr>\n",
       "      <th>18</th>\n",
       "      <td>NaN</td>\n",
       "      <td>NaN</td>\n",
       "      <td>NaN</td>\n",
       "    </tr>\n",
       "    <tr>\n",
       "      <th>19</th>\n",
       "      <td>0.0</td>\n",
       "      <td>0.0</td>\n",
       "      <td>1.0</td>\n",
       "    </tr>\n",
       "    <tr>\n",
       "      <th>20</th>\n",
       "      <td>0.0</td>\n",
       "      <td>0.0</td>\n",
       "      <td>1.0</td>\n",
       "    </tr>\n",
       "    <tr>\n",
       "      <th>21</th>\n",
       "      <td>NaN</td>\n",
       "      <td>NaN</td>\n",
       "      <td>NaN</td>\n",
       "    </tr>\n",
       "    <tr>\n",
       "      <th>22</th>\n",
       "      <td>NaN</td>\n",
       "      <td>NaN</td>\n",
       "      <td>NaN</td>\n",
       "    </tr>\n",
       "    <tr>\n",
       "      <th>23</th>\n",
       "      <td>NaN</td>\n",
       "      <td>NaN</td>\n",
       "      <td>0.0</td>\n",
       "    </tr>\n",
       "    <tr>\n",
       "      <th>24</th>\n",
       "      <td>NaN</td>\n",
       "      <td>NaN</td>\n",
       "      <td>0.0</td>\n",
       "    </tr>\n",
       "  </tbody>\n",
       "</table>\n",
       "</div>"
      ],
      "text/plain": [
       "    Completed Suicide Percent  Attempted Suicide Percent  \\\n",
       "0                         0.0                        NaN   \n",
       "1                         0.0                        NaN   \n",
       "2                         NaN                        NaN   \n",
       "3                         NaN                        NaN   \n",
       "4                         NaN                        NaN   \n",
       "5                         NaN                        NaN   \n",
       "6                         NaN                        NaN   \n",
       "7                         NaN                        NaN   \n",
       "8                         NaN                        NaN   \n",
       "9                         NaN                        NaN   \n",
       "10                        NaN                        NaN   \n",
       "11                        NaN                        NaN   \n",
       "12                        NaN                        NaN   \n",
       "13                        NaN                        NaN   \n",
       "14                        NaN                        NaN   \n",
       "15                        NaN                        NaN   \n",
       "16                        NaN                        NaN   \n",
       "17                        NaN                        NaN   \n",
       "18                        NaN                        NaN   \n",
       "19                        0.0                        0.0   \n",
       "20                        0.0                        0.0   \n",
       "21                        NaN                        NaN   \n",
       "22                        NaN                        NaN   \n",
       "23                        NaN                        NaN   \n",
       "24                        NaN                        NaN   \n",
       "\n",
       "    Veteran Percent (Study level)  \n",
       "0                             NaN  \n",
       "1                             NaN  \n",
       "2                             1.0  \n",
       "3                             1.0  \n",
       "4                             NaN  \n",
       "5                             NaN  \n",
       "6                             0.0  \n",
       "7                             0.0  \n",
       "8                             0.0  \n",
       "9                             1.0  \n",
       "10                            1.0  \n",
       "11                            1.0  \n",
       "12                            NaN  \n",
       "13                            NaN  \n",
       "14                            NaN  \n",
       "15                            NaN  \n",
       "16                            NaN  \n",
       "17                            NaN  \n",
       "18                            NaN  \n",
       "19                            1.0  \n",
       "20                            1.0  \n",
       "21                            NaN  \n",
       "22                            NaN  \n",
       "23                            0.0  \n",
       "24                            0.0  "
      ]
     },
     "execution_count": 11,
     "metadata": {},
     "output_type": "execute_result"
    }
   ],
   "source": [
    "h2.head(25)"
   ]
  },
  {
   "cell_type": "markdown",
   "metadata": {},
   "source": [
    "# fix the data that's not normal"
   ]
  },
  {
   "cell_type": "code",
   "execution_count": 12,
   "metadata": {},
   "outputs": [
    {
     "data": {
      "text/plain": [
       "NaN       462\n",
       "1.0000    260\n",
       "0.0000     84\n",
       "0.1152      4\n",
       "0.9205      4\n",
       "0.4000      4\n",
       "0.8462      3\n",
       "0.2690      3\n",
       "0.0684      2\n",
       "0.8222      2\n",
       "0.1700      2\n",
       "0.1190      2\n",
       "0.0299      2\n",
       "0.7018      2\n",
       "0.2000      2\n",
       "0.0400      2\n",
       "0.9754      2\n",
       "0.1000      2\n",
       "0.9762      2\n",
       "0.4844      2\n",
       "0.2250      2\n",
       "0.4817      2\n",
       "0.7100      2\n",
       "0.7857      2\n",
       "0.2619      2\n",
       "0.6020      2\n",
       "0.5880      2\n",
       "0.3143      2\n",
       "Name: Veteran Percent (Study level), dtype: int64"
      ]
     },
     "execution_count": 12,
     "metadata": {},
     "output_type": "execute_result"
    }
   ],
   "source": [
    "h2['Veteran Percent (Study level)'].value_counts(dropna=False)"
   ]
  },
  {
   "cell_type": "markdown",
   "metadata": {},
   "source": [
    "# find correlation"
   ]
  },
  {
   "cell_type": "code",
   "execution_count": 13,
   "metadata": {},
   "outputs": [
    {
     "data": {
      "text/html": [
       "<div>\n",
       "<style scoped>\n",
       "    .dataframe tbody tr th:only-of-type {\n",
       "        vertical-align: middle;\n",
       "    }\n",
       "\n",
       "    .dataframe tbody tr th {\n",
       "        vertical-align: top;\n",
       "    }\n",
       "\n",
       "    .dataframe thead th {\n",
       "        text-align: right;\n",
       "    }\n",
       "</style>\n",
       "<table border=\"1\" class=\"dataframe\">\n",
       "  <thead>\n",
       "    <tr style=\"text-align: right;\">\n",
       "      <th></th>\n",
       "      <th>Veteran Percent (Study level)</th>\n",
       "      <th>Attempted Suicide Percent</th>\n",
       "    </tr>\n",
       "  </thead>\n",
       "  <tbody>\n",
       "    <tr>\n",
       "      <th>Veteran Percent (Study level)</th>\n",
       "      <td>1.00000</td>\n",
       "      <td>-0.06315</td>\n",
       "    </tr>\n",
       "    <tr>\n",
       "      <th>Attempted Suicide Percent</th>\n",
       "      <td>-0.06315</td>\n",
       "      <td>1.00000</td>\n",
       "    </tr>\n",
       "  </tbody>\n",
       "</table>\n",
       "</div>"
      ],
      "text/plain": [
       "                               Veteran Percent (Study level)  \\\n",
       "Veteran Percent (Study level)                        1.00000   \n",
       "Attempted Suicide Percent                           -0.06315   \n",
       "\n",
       "                               Attempted Suicide Percent  \n",
       "Veteran Percent (Study level)                   -0.06315  \n",
       "Attempted Suicide Percent                        1.00000  "
      ]
     },
     "execution_count": 13,
     "metadata": {},
     "output_type": "execute_result"
    }
   ],
   "source": [
    "h2[['Veteran Percent (Study level)', 'Attempted Suicide Percent']].corr()"
   ]
  },
  {
   "cell_type": "code",
   "execution_count": 14,
   "metadata": {},
   "outputs": [
    {
     "data": {
      "text/html": [
       "<div>\n",
       "<style scoped>\n",
       "    .dataframe tbody tr th:only-of-type {\n",
       "        vertical-align: middle;\n",
       "    }\n",
       "\n",
       "    .dataframe tbody tr th {\n",
       "        vertical-align: top;\n",
       "    }\n",
       "\n",
       "    .dataframe thead th {\n",
       "        text-align: right;\n",
       "    }\n",
       "</style>\n",
       "<table border=\"1\" class=\"dataframe\">\n",
       "  <thead>\n",
       "    <tr style=\"text-align: right;\">\n",
       "      <th></th>\n",
       "      <th>Veteran Percent (Study level)</th>\n",
       "      <th>Completed Suicide Percent</th>\n",
       "    </tr>\n",
       "  </thead>\n",
       "  <tbody>\n",
       "    <tr>\n",
       "      <th>Veteran Percent (Study level)</th>\n",
       "      <td>1.000000</td>\n",
       "      <td>-0.163316</td>\n",
       "    </tr>\n",
       "    <tr>\n",
       "      <th>Completed Suicide Percent</th>\n",
       "      <td>-0.163316</td>\n",
       "      <td>1.000000</td>\n",
       "    </tr>\n",
       "  </tbody>\n",
       "</table>\n",
       "</div>"
      ],
      "text/plain": [
       "                               Veteran Percent (Study level)  \\\n",
       "Veteran Percent (Study level)                       1.000000   \n",
       "Completed Suicide Percent                          -0.163316   \n",
       "\n",
       "                               Completed Suicide Percent  \n",
       "Veteran Percent (Study level)                  -0.163316  \n",
       "Completed Suicide Percent                       1.000000  "
      ]
     },
     "execution_count": 14,
     "metadata": {},
     "output_type": "execute_result"
    }
   ],
   "source": [
    "h2[['Veteran Percent (Study level)', 'Completed Suicide Percent']].corr()"
   ]
  },
  {
   "cell_type": "code",
   "execution_count": 15,
   "metadata": {},
   "outputs": [
    {
     "data": {
      "text/plain": [
       "<AxesSubplot:>"
      ]
     },
     "execution_count": 15,
     "metadata": {},
     "output_type": "execute_result"
    },
    {
     "data": {
      "image/png": "[encoded data removed]",
      "text/plain": [
       "<Figure size 432x288 with 1 Axes>"
      ]
     },
     "metadata": {
      "needs_background": "light"
     },
     "output_type": "display_data"
    }
   ],
   "source": [
    "harms['Veteran Percent (Study level)'].hist()\n"
   ]
  },
  {
   "cell_type": "markdown",
   "metadata": {},
   "source": [
    "# clean p the dataframe"
   ]
  },
  {
   "cell_type": "code",
   "execution_count": 16,
   "metadata": {},
   "outputs": [],
   "source": [
    "h2=harms[['Attempted Suicide Percent','Veteran Percent (Study level)', 'Male Percent (Study level)']]"
   ]
  },
  {
   "cell_type": "code",
   "execution_count": 17,
   "metadata": {},
   "outputs": [
    {
     "data": {
      "text/html": [
       "<div>\n",
       "<style scoped>\n",
       "    .dataframe tbody tr th:only-of-type {\n",
       "        vertical-align: middle;\n",
       "    }\n",
       "\n",
       "    .dataframe tbody tr th {\n",
       "        vertical-align: top;\n",
       "    }\n",
       "\n",
       "    .dataframe thead th {\n",
       "        text-align: right;\n",
       "    }\n",
       "</style>\n",
       "<table border=\"1\" class=\"dataframe\">\n",
       "  <thead>\n",
       "    <tr style=\"text-align: right;\">\n",
       "      <th></th>\n",
       "      <th>Attempted Suicide Percent</th>\n",
       "      <th>Veteran Percent (Study level)</th>\n",
       "      <th>Male Percent (Study level)</th>\n",
       "    </tr>\n",
       "  </thead>\n",
       "  <tbody>\n",
       "    <tr>\n",
       "      <th>0</th>\n",
       "      <td>NaN</td>\n",
       "      <td>NaN</td>\n",
       "      <td>0.2551</td>\n",
       "    </tr>\n",
       "    <tr>\n",
       "      <th>1</th>\n",
       "      <td>NaN</td>\n",
       "      <td>NaN</td>\n",
       "      <td>0.2551</td>\n",
       "    </tr>\n",
       "    <tr>\n",
       "      <th>2</th>\n",
       "      <td>NaN</td>\n",
       "      <td>1.0</td>\n",
       "      <td>0.9621</td>\n",
       "    </tr>\n",
       "    <tr>\n",
       "      <th>3</th>\n",
       "      <td>NaN</td>\n",
       "      <td>1.0</td>\n",
       "      <td>0.9621</td>\n",
       "    </tr>\n",
       "    <tr>\n",
       "      <th>4</th>\n",
       "      <td>NaN</td>\n",
       "      <td>NaN</td>\n",
       "      <td>0.5588</td>\n",
       "    </tr>\n",
       "  </tbody>\n",
       "</table>\n",
       "</div>"
      ],
      "text/plain": [
       "   Attempted Suicide Percent  Veteran Percent (Study level)  \\\n",
       "0                        NaN                            NaN   \n",
       "1                        NaN                            NaN   \n",
       "2                        NaN                            1.0   \n",
       "3                        NaN                            1.0   \n",
       "4                        NaN                            NaN   \n",
       "\n",
       "   Male Percent (Study level)  \n",
       "0                      0.2551  \n",
       "1                      0.2551  \n",
       "2                      0.9621  \n",
       "3                      0.9621  \n",
       "4                      0.5588  "
      ]
     },
     "execution_count": 17,
     "metadata": {},
     "output_type": "execute_result"
    }
   ],
   "source": [
    "h2.head()"
   ]
  },
  {
   "cell_type": "markdown",
   "metadata": {},
   "source": [
    "# fix data that isn't normal"
   ]
  },
  {
   "cell_type": "code",
   "execution_count": 18,
   "metadata": {},
   "outputs": [
    {
     "name": "stderr",
     "output_type": "stream",
     "text": [
      "<ipython-input-18-11c137d72d44>:1: SettingWithCopyWarning: \n",
      "A value is trying to be set on a copy of a slice from a DataFrame\n",
      "\n",
      "See the caveats in the documentation: https://pandas.pydata.org/pandas-docs/stable/user_guide/indexing.html#returning-a-view-versus-a-copy\n",
      "  h2.dropna(inplace=True)\n"
     ]
    }
   ],
   "source": [
    "h2.dropna(inplace=True)"
   ]
  },
  {
   "cell_type": "code",
   "execution_count": 19,
   "metadata": {},
   "outputs": [
    {
     "data": {
      "text/plain": [
       "<seaborn.axisgrid.PairGrid at 0x25a1fd6e6a0>"
      ]
     },
     "execution_count": 19,
     "metadata": {},
     "output_type": "execute_result"
    },
    {
     "data": {
      "image/png": "[encoded data removed]",
      "text/plain": [
       "<Figure size 540x540 with 12 Axes>"
      ]
     },
     "metadata": {
      "needs_background": "light"
     },
     "output_type": "display_data"
    }
   ],
   "source": [
    "sns.pairplot(h2)"
   ]
  },
  {
   "cell_type": "code",
   "execution_count": 20,
   "metadata": {},
   "outputs": [
    {
     "data": {
      "text/plain": [
       "<AxesSubplot:>"
      ]
     },
     "execution_count": 20,
     "metadata": {},
     "output_type": "execute_result"
    },
    {
     "data": {
      "image/png": "[encoded data removed]",
      "text/plain": [
       "<Figure size 432x288 with 1 Axes>"
      ]
     },
     "metadata": {
      "needs_background": "light"
     },
     "output_type": "display_data"
    }
   ],
   "source": [
    "h2['Attempted Suicide Percent'].hist()\n"
   ]
  },
  {
   "cell_type": "code",
   "execution_count": 21,
   "metadata": {},
   "outputs": [
    {
     "data": {
      "text/plain": [
       "<AxesSubplot:>"
      ]
     },
     "execution_count": 21,
     "metadata": {},
     "output_type": "execute_result"
    },
    {
     "data": {
      "image/png": "[encoded data removed]",
      "text/plain": [
       "<Figure size 432x288 with 1 Axes>"
      ]
     },
     "metadata": {
      "needs_background": "light"
     },
     "output_type": "display_data"
    }
   ],
   "source": [
    "h2['Veteran Percent (Study level)'].hist()"
   ]
  },
  {
   "cell_type": "markdown",
   "metadata": {},
   "source": [
    "# explore the dataframe"
   ]
  },
  {
   "cell_type": "code",
   "execution_count": 22,
   "metadata": {},
   "outputs": [
    {
     "data": {
      "text/plain": [
       "0.0000    33\n",
       "0.0294     1\n",
       "0.0286     1\n",
       "0.0370     1\n",
       "0.0134     1\n",
       "0.0740     1\n",
       "0.0071     1\n",
       "0.0175     1\n",
       "0.0150     1\n",
       "0.0178     1\n",
       "0.0210     1\n",
       "Name: Attempted Suicide Percent, dtype: int64"
      ]
     },
     "execution_count": 22,
     "metadata": {},
     "output_type": "execute_result"
    }
   ],
   "source": [
    "h2['Attempted Suicide Percent'].value_counts()\n"
   ]
  },
  {
   "cell_type": "code",
   "execution_count": 23,
   "metadata": {},
   "outputs": [
    {
     "data": {
      "text/plain": [
       "1.0000    21\n",
       "0.0000     9\n",
       "0.8462     3\n",
       "0.1190     2\n",
       "0.1000     2\n",
       "0.9754     2\n",
       "0.0299     2\n",
       "0.9762     2\n",
       "Name: Veteran Percent (Study level), dtype: int64"
      ]
     },
     "execution_count": 23,
     "metadata": {},
     "output_type": "execute_result"
    }
   ],
   "source": [
    "h2['Veteran Percent (Study level)'].value_counts()"
   ]
  },
  {
   "cell_type": "code",
   "execution_count": 24,
   "metadata": {},
   "outputs": [
    {
     "data": {
      "text/plain": [
       "0.7308    5\n",
       "0.9100    4\n",
       "0.8317    3\n",
       "0.3210    3\n",
       "0.0000    2\n",
       "0.9500    2\n",
       "0.9762    2\n",
       "0.9090    2\n",
       "0.9770    2\n",
       "0.1512    2\n",
       "0.1500    2\n",
       "0.9128    2\n",
       "0.8507    2\n",
       "0.8448    2\n",
       "0.7872    2\n",
       "0.8095    2\n",
       "0.9259    2\n",
       "1.0000    2\n",
       "Name: Male Percent (Study level), dtype: int64"
      ]
     },
     "execution_count": 24,
     "metadata": {},
     "output_type": "execute_result"
    }
   ],
   "source": [
    "h2['Male Percent (Study level)'].value_counts()"
   ]
  },
  {
   "cell_type": "markdown",
   "metadata": {},
   "source": [
    "# recode, transform the values in Attempted Suiced Percent"
   ]
  },
  {
   "cell_type": "code",
   "execution_count": 25,
   "metadata": {},
   "outputs": [],
   "source": [
    "def recode_ASP (series):\n",
    "    if series == 0.00:\n",
    "        return 0\n",
    "    else:\n",
    "        return 1"
   ]
  },
  {
   "cell_type": "code",
   "execution_count": 26,
   "metadata": {},
   "outputs": [
    {
     "name": "stderr",
     "output_type": "stream",
     "text": [
      "<ipython-input-26-bd94357e4f54>:1: SettingWithCopyWarning: \n",
      "A value is trying to be set on a copy of a slice from a DataFrame.\n",
      "Try using .loc[row_indexer,col_indexer] = value instead\n",
      "\n",
      "See the caveats in the documentation: https://pandas.pydata.org/pandas-docs/stable/user_guide/indexing.html#returning-a-view-versus-a-copy\n",
      "  h2['asp_recode']=h2['Attempted Suicide Percent'].apply(recode_ASP)\n"
     ]
    }
   ],
   "source": [
    "h2['asp_recode']=h2['Attempted Suicide Percent'].apply(recode_ASP)"
   ]
  },
  {
   "cell_type": "code",
   "execution_count": 27,
   "metadata": {},
   "outputs": [
    {
     "data": {
      "text/html": [
       "<div>\n",
       "<style scoped>\n",
       "    .dataframe tbody tr th:only-of-type {\n",
       "        vertical-align: middle;\n",
       "    }\n",
       "\n",
       "    .dataframe tbody tr th {\n",
       "        vertical-align: top;\n",
       "    }\n",
       "\n",
       "    .dataframe thead th {\n",
       "        text-align: right;\n",
       "    }\n",
       "</style>\n",
       "<table border=\"1\" class=\"dataframe\">\n",
       "  <thead>\n",
       "    <tr style=\"text-align: right;\">\n",
       "      <th></th>\n",
       "      <th>Attempted Suicide Percent</th>\n",
       "      <th>Veteran Percent (Study level)</th>\n",
       "      <th>Male Percent (Study level)</th>\n",
       "      <th>asp_recode</th>\n",
       "    </tr>\n",
       "  </thead>\n",
       "  <tbody>\n",
       "    <tr>\n",
       "      <th>19</th>\n",
       "      <td>0.000</td>\n",
       "      <td>1.0000</td>\n",
       "      <td>1.0000</td>\n",
       "      <td>0</td>\n",
       "    </tr>\n",
       "    <tr>\n",
       "      <th>20</th>\n",
       "      <td>0.000</td>\n",
       "      <td>1.0000</td>\n",
       "      <td>1.0000</td>\n",
       "      <td>0</td>\n",
       "    </tr>\n",
       "    <tr>\n",
       "      <th>33</th>\n",
       "      <td>0.000</td>\n",
       "      <td>1.0000</td>\n",
       "      <td>0.9090</td>\n",
       "      <td>0</td>\n",
       "    </tr>\n",
       "    <tr>\n",
       "      <th>34</th>\n",
       "      <td>0.037</td>\n",
       "      <td>1.0000</td>\n",
       "      <td>0.9090</td>\n",
       "      <td>1</td>\n",
       "    </tr>\n",
       "    <tr>\n",
       "      <th>183</th>\n",
       "      <td>0.000</td>\n",
       "      <td>0.9762</td>\n",
       "      <td>0.9762</td>\n",
       "      <td>0</td>\n",
       "    </tr>\n",
       "  </tbody>\n",
       "</table>\n",
       "</div>"
      ],
      "text/plain": [
       "     Attempted Suicide Percent  Veteran Percent (Study level)  \\\n",
       "19                       0.000                         1.0000   \n",
       "20                       0.000                         1.0000   \n",
       "33                       0.000                         1.0000   \n",
       "34                       0.037                         1.0000   \n",
       "183                      0.000                         0.9762   \n",
       "\n",
       "     Male Percent (Study level)  asp_recode  \n",
       "19                       1.0000           0  \n",
       "20                       1.0000           0  \n",
       "33                       0.9090           0  \n",
       "34                       0.9090           1  \n",
       "183                      0.9762           0  "
      ]
     },
     "execution_count": 27,
     "metadata": {},
     "output_type": "execute_result"
    }
   ],
   "source": [
    "h2.head()"
   ]
  },
  {
   "cell_type": "markdown",
   "metadata": {},
   "source": [
    "# Logistic Regression"
   ]
  },
  {
   "cell_type": "code",
   "execution_count": 28,
   "metadata": {},
   "outputs": [],
   "source": [
    "x = h2[['Veteran Percent (Study level)', 'Male Percent (Study level)']]\n",
    "y = h2['asp_recode']"
   ]
  },
  {
   "cell_type": "code",
   "execution_count": 29,
   "metadata": {},
   "outputs": [
    {
     "name": "stdout",
     "output_type": "stream",
     "text": [
      "Optimization terminated successfully.\n",
      "         Current function value: 0.485421\n",
      "         Iterations 6\n",
      "                               Results: Logit\n",
      "=============================================================================\n",
      "Model:                    Logit                Pseudo R-squared:     0.105   \n",
      "Dependent Variable:       asp_recode           AIC:                  45.7462 \n",
      "Date:                     2021-11-18 14:54     BIC:                  49.2686 \n",
      "No. Observations:         43                   Log-Likelihood:       -20.873 \n",
      "Df Model:                 1                    LL-Null:              -23.321 \n",
      "Df Residuals:             41                   LLR p-value:          0.026922\n",
      "Converged:                1.0000               Scale:                1.0000  \n",
      "No. Iterations:           6.0000                                             \n",
      "-----------------------------------------------------------------------------\n",
      "                               Coef.  Std.Err.    z    P>|z|   [0.025  0.975]\n",
      "-----------------------------------------------------------------------------\n",
      "Veteran Percent (Study level)  0.7003   0.7996  0.8758 0.3811 -0.8669  2.2676\n",
      "Male Percent (Study level)    -2.4595   0.8966 -2.7430 0.0061 -4.2169 -0.7021\n",
      "=============================================================================\n",
      "\n"
     ]
    }
   ],
   "source": [
    "logit = sm.Logit(y,x)\n",
    "results = logit.fit()\n",
    "print(results.summary2())"
   ]
  },
  {
   "cell_type": "code",
   "execution_count": null,
   "metadata": {},
   "outputs": [],
   "source": []
  },
  {
   "cell_type": "markdown",
   "metadata": {},
   "source": [
    "# Visualize the h3 data"
   ]
  },
  {
   "cell_type": "code",
   "execution_count": 30,
   "metadata": {},
   "outputs": [
    {
     "data": {
      "text/plain": [
       "Text(0, 0.5, 'asp_recode')"
      ]
     },
     "execution_count": 30,
     "metadata": {},
     "output_type": "execute_result"
    },
    {
     "data": {
      "image/png": "[encoded data removed]",
      "text/plain": [
       "<Figure size 432x288 with 1 Axes>"
      ]
     },
     "metadata": {
      "needs_background": "light"
     },
     "output_type": "display_data"
    }
   ],
   "source": [
    "p = sns.lineplot(data =h2,)\n",
    "p.set_xlabel(\"Veteran Percent (Study level)\", fontsize = 20)\n",
    "p.set_ylabel('asp_recode', fontsize = 20)"
   ]
  },
  {
   "cell_type": "code",
   "execution_count": 31,
   "metadata": {},
   "outputs": [
    {
     "data": {
      "text/plain": [
       "<AxesSubplot:xlabel='asp_recode', ylabel='Male Percent (Study level)'>"
      ]
     },
     "execution_count": 31,
     "metadata": {},
     "output_type": "execute_result"
    },
    {
     "data": {
      "image/png": "[encoded data removed]",
      "text/plain": [
       "<Figure size 432x288 with 1 Axes>"
      ]
     },
     "metadata": {
      "needs_background": "light"
     },
     "output_type": "display_data"
    }
   ],
   "source": [
    "sns.lineplot(data=h2, x='asp_recode', y= 'Male Percent (Study level)')"
   ]
  },
  {
   "cell_type": "code",
   "execution_count": 32,
   "metadata": {},
   "outputs": [
    {
     "data": {
      "text/plain": [
       "<AxesSubplot:xlabel='asp_recode', ylabel='Male Percent (Study level)'>"
      ]
     },
     "execution_count": 32,
     "metadata": {},
     "output_type": "execute_result"
    },
    {
     "data": {
      "image/png": "[encoded data removed]",
      "text/plain": [
       "<Figure size 432x288 with 1 Axes>"
      ]
     },
     "metadata": {
      "needs_background": "light"
     },
     "output_type": "display_data"
    }
   ],
   "source": [
    "sns.scatterplot(data=h2, x='asp_recode', y= 'Male Percent (Study level)')"
   ]
  },
  {
   "cell_type": "code",
   "execution_count": 33,
   "metadata": {},
   "outputs": [
    {
     "data": {
      "text/plain": [
       "<AxesSubplot:xlabel='asp_recode', ylabel='Veteran Percent (Study level)'>"
      ]
     },
     "execution_count": 33,
     "metadata": {},
     "output_type": "execute_result"
    },
    {
     "data": {
      "image/png": "[encoded data removed]",
      "text/plain": [
       "<Figure size 432x288 with 1 Axes>"
      ]
     },
     "metadata": {
      "needs_background": "light"
     },
     "output_type": "display_data"
    }
   ],
   "source": [
    "sns.scatterplot(data=h2, x='asp_recode', y= \"Veteran Percent (Study level)\")"
   ]
  },
  {
   "cell_type": "code",
   "execution_count": 34,
   "metadata": {},
   "outputs": [
    {
     "data": {
      "image/png": "[encoded data removed]",
      "text/plain": [
       "<Figure size 432x288 with 1 Axes>"
      ]
     },
     "metadata": {
      "needs_background": "light"
     },
     "output_type": "display_data"
    }
   ],
   "source": [
    "\n",
    "ax = sns.barplot(x=\"Veteran Percent (Study level)\", y='asp_recode', data=h2,\n",
    "                 palette=\"Blues_d\")"
   ]
  },
  {
   "cell_type": "code",
   "execution_count": 35,
   "metadata": {},
   "outputs": [
    {
     "data": {
      "text/plain": [
       "<AxesSubplot:xlabel='Male Percent (Study level)', ylabel='asp_recode'>"
      ]
     },
     "execution_count": 35,
     "metadata": {},
     "output_type": "execute_result"
    },
    {
     "data": {
      "image/png": "[encoded data removed]",
      "text/plain": [
       "<Figure size 432x288 with 1 Axes>"
      ]
     },
     "metadata": {
      "needs_background": "light"
     },
     "output_type": "display_data"
    }
   ],
   "source": [
    "sns.scatterplot(data=h2, x='Male Percent (Study level)', y='asp_recode')\n"
   ]
  },
  {
   "cell_type": "markdown",
   "metadata": {},
   "source": [
    "# add more variables"
   ]
  },
  {
   "cell_type": "code",
   "execution_count": 36,
   "metadata": {},
   "outputs": [
    {
     "data": {
      "text/plain": [
       "Index(['study_id', 'Study Class', 'Treatment Focus (Study level)',\n",
       "       'Intervention Group', 'Treatment Focus (Arm level)',\n",
       "       'Treatment Focus Subclass', 'Treatment Name', 'NCPTSD Treatment Name',\n",
       "       'Psychotherapy', 'Psychotherapy Subclass', 'Pharmacotherapy',\n",
       "       'Pharmacotherapy Subclass', 'CIH', 'CIH Subclass',\n",
       "       'Nonpharmacologic Biologic', 'Nonpharmacologic Cognitive', 'Control',\n",
       "       'Other', 'Collaborative Care', 'Format', 'Delivery Method',\n",
       "       'Arm N Randomized', 'Serious Adverse Event Percent',\n",
       "       'Serious Adverse Event Detail',\n",
       "       'Withdrawal Due to Adverse Events Percent',\n",
       "       'Withdrawal Due to Adverse Events Detail', 'Attempted Suicide Percent',\n",
       "       'Attempted Suicide Detail', 'Completed Suicide Percent',\n",
       "       'Completed Suicide Detail', 'Harms Comment',\n",
       "       'Military Status (Study level)',\n",
       "       'Active Duty Military Percent (Study level)',\n",
       "       'Veteran Percent (Study level)', 'Community Percent (Study level)',\n",
       "       'Female Percent (Study level)', 'Female Percent Detail (Study level)',\n",
       "       'Male Percent (Study level)', 'Trauma Type (Study level)',\n",
       "       'Risk of Bias Rating (Study level)', 'Citation', 'PTSDPubs ID',\n",
       "       'Year Added to PTSD-Repository'],\n",
       "      dtype='object')"
      ]
     },
     "execution_count": 36,
     "metadata": {},
     "output_type": "execute_result"
    }
   ],
   "source": [
    "harms.columns"
   ]
  },
  {
   "cell_type": "code",
   "execution_count": 37,
   "metadata": {},
   "outputs": [],
   "source": [
    "h3=harms[['Attempted Suicide Percent','Veteran Percent (Study level)', 'Male Percent (Study level)',  'Psychotherapy']]"
   ]
  },
  {
   "cell_type": "code",
   "execution_count": 38,
   "metadata": {},
   "outputs": [
    {
     "data": {
      "text/html": [
       "<div>\n",
       "<style scoped>\n",
       "    .dataframe tbody tr th:only-of-type {\n",
       "        vertical-align: middle;\n",
       "    }\n",
       "\n",
       "    .dataframe tbody tr th {\n",
       "        vertical-align: top;\n",
       "    }\n",
       "\n",
       "    .dataframe thead th {\n",
       "        text-align: right;\n",
       "    }\n",
       "</style>\n",
       "<table border=\"1\" class=\"dataframe\">\n",
       "  <thead>\n",
       "    <tr style=\"text-align: right;\">\n",
       "      <th></th>\n",
       "      <th>Attempted Suicide Percent</th>\n",
       "      <th>Veteran Percent (Study level)</th>\n",
       "      <th>Male Percent (Study level)</th>\n",
       "      <th>Psychotherapy</th>\n",
       "    </tr>\n",
       "  </thead>\n",
       "  <tbody>\n",
       "    <tr>\n",
       "      <th>0</th>\n",
       "      <td>NaN</td>\n",
       "      <td>NaN</td>\n",
       "      <td>0.2551</td>\n",
       "      <td>Yes</td>\n",
       "    </tr>\n",
       "    <tr>\n",
       "      <th>1</th>\n",
       "      <td>NaN</td>\n",
       "      <td>NaN</td>\n",
       "      <td>0.2551</td>\n",
       "      <td>No</td>\n",
       "    </tr>\n",
       "    <tr>\n",
       "      <th>2</th>\n",
       "      <td>NaN</td>\n",
       "      <td>1.0</td>\n",
       "      <td>0.9621</td>\n",
       "      <td>Yes</td>\n",
       "    </tr>\n",
       "    <tr>\n",
       "      <th>3</th>\n",
       "      <td>NaN</td>\n",
       "      <td>1.0</td>\n",
       "      <td>0.9621</td>\n",
       "      <td>Yes</td>\n",
       "    </tr>\n",
       "    <tr>\n",
       "      <th>4</th>\n",
       "      <td>NaN</td>\n",
       "      <td>NaN</td>\n",
       "      <td>0.5588</td>\n",
       "      <td>Yes</td>\n",
       "    </tr>\n",
       "    <tr>\n",
       "      <th>5</th>\n",
       "      <td>NaN</td>\n",
       "      <td>NaN</td>\n",
       "      <td>0.5588</td>\n",
       "      <td>No</td>\n",
       "    </tr>\n",
       "    <tr>\n",
       "      <th>6</th>\n",
       "      <td>NaN</td>\n",
       "      <td>0.0</td>\n",
       "      <td>1.0000</td>\n",
       "      <td>Yes</td>\n",
       "    </tr>\n",
       "    <tr>\n",
       "      <th>7</th>\n",
       "      <td>NaN</td>\n",
       "      <td>0.0</td>\n",
       "      <td>1.0000</td>\n",
       "      <td>No</td>\n",
       "    </tr>\n",
       "    <tr>\n",
       "      <th>8</th>\n",
       "      <td>NaN</td>\n",
       "      <td>0.0</td>\n",
       "      <td>1.0000</td>\n",
       "      <td>No</td>\n",
       "    </tr>\n",
       "    <tr>\n",
       "      <th>9</th>\n",
       "      <td>NaN</td>\n",
       "      <td>1.0</td>\n",
       "      <td>1.0000</td>\n",
       "      <td>No</td>\n",
       "    </tr>\n",
       "    <tr>\n",
       "      <th>10</th>\n",
       "      <td>NaN</td>\n",
       "      <td>1.0</td>\n",
       "      <td>1.0000</td>\n",
       "      <td>No</td>\n",
       "    </tr>\n",
       "    <tr>\n",
       "      <th>11</th>\n",
       "      <td>NaN</td>\n",
       "      <td>1.0</td>\n",
       "      <td>1.0000</td>\n",
       "      <td>No</td>\n",
       "    </tr>\n",
       "    <tr>\n",
       "      <th>12</th>\n",
       "      <td>NaN</td>\n",
       "      <td>NaN</td>\n",
       "      <td>0.3500</td>\n",
       "      <td>No</td>\n",
       "    </tr>\n",
       "    <tr>\n",
       "      <th>13</th>\n",
       "      <td>NaN</td>\n",
       "      <td>NaN</td>\n",
       "      <td>0.3500</td>\n",
       "      <td>No</td>\n",
       "    </tr>\n",
       "    <tr>\n",
       "      <th>14</th>\n",
       "      <td>NaN</td>\n",
       "      <td>NaN</td>\n",
       "      <td>0.7200</td>\n",
       "      <td>No</td>\n",
       "    </tr>\n",
       "    <tr>\n",
       "      <th>15</th>\n",
       "      <td>NaN</td>\n",
       "      <td>NaN</td>\n",
       "      <td>0.7200</td>\n",
       "      <td>No</td>\n",
       "    </tr>\n",
       "    <tr>\n",
       "      <th>16</th>\n",
       "      <td>NaN</td>\n",
       "      <td>NaN</td>\n",
       "      <td>0.7200</td>\n",
       "      <td>No</td>\n",
       "    </tr>\n",
       "    <tr>\n",
       "      <th>17</th>\n",
       "      <td>NaN</td>\n",
       "      <td>NaN</td>\n",
       "      <td>0.2143</td>\n",
       "      <td>Yes</td>\n",
       "    </tr>\n",
       "    <tr>\n",
       "      <th>18</th>\n",
       "      <td>NaN</td>\n",
       "      <td>NaN</td>\n",
       "      <td>0.2143</td>\n",
       "      <td>No</td>\n",
       "    </tr>\n",
       "    <tr>\n",
       "      <th>19</th>\n",
       "      <td>0.0</td>\n",
       "      <td>1.0</td>\n",
       "      <td>1.0000</td>\n",
       "      <td>No</td>\n",
       "    </tr>\n",
       "    <tr>\n",
       "      <th>20</th>\n",
       "      <td>0.0</td>\n",
       "      <td>1.0</td>\n",
       "      <td>1.0000</td>\n",
       "      <td>No</td>\n",
       "    </tr>\n",
       "    <tr>\n",
       "      <th>21</th>\n",
       "      <td>NaN</td>\n",
       "      <td>NaN</td>\n",
       "      <td>0.4706</td>\n",
       "      <td>Yes</td>\n",
       "    </tr>\n",
       "    <tr>\n",
       "      <th>22</th>\n",
       "      <td>NaN</td>\n",
       "      <td>NaN</td>\n",
       "      <td>0.4706</td>\n",
       "      <td>No</td>\n",
       "    </tr>\n",
       "    <tr>\n",
       "      <th>23</th>\n",
       "      <td>NaN</td>\n",
       "      <td>0.0</td>\n",
       "      <td>1.0000</td>\n",
       "      <td>Yes</td>\n",
       "    </tr>\n",
       "    <tr>\n",
       "      <th>24</th>\n",
       "      <td>NaN</td>\n",
       "      <td>0.0</td>\n",
       "      <td>1.0000</td>\n",
       "      <td>No</td>\n",
       "    </tr>\n",
       "  </tbody>\n",
       "</table>\n",
       "</div>"
      ],
      "text/plain": [
       "    Attempted Suicide Percent  Veteran Percent (Study level)  \\\n",
       "0                         NaN                            NaN   \n",
       "1                         NaN                            NaN   \n",
       "2                         NaN                            1.0   \n",
       "3                         NaN                            1.0   \n",
       "4                         NaN                            NaN   \n",
       "5                         NaN                            NaN   \n",
       "6                         NaN                            0.0   \n",
       "7                         NaN                            0.0   \n",
       "8                         NaN                            0.0   \n",
       "9                         NaN                            1.0   \n",
       "10                        NaN                            1.0   \n",
       "11                        NaN                            1.0   \n",
       "12                        NaN                            NaN   \n",
       "13                        NaN                            NaN   \n",
       "14                        NaN                            NaN   \n",
       "15                        NaN                            NaN   \n",
       "16                        NaN                            NaN   \n",
       "17                        NaN                            NaN   \n",
       "18                        NaN                            NaN   \n",
       "19                        0.0                            1.0   \n",
       "20                        0.0                            1.0   \n",
       "21                        NaN                            NaN   \n",
       "22                        NaN                            NaN   \n",
       "23                        NaN                            0.0   \n",
       "24                        NaN                            0.0   \n",
       "\n",
       "    Male Percent (Study level) Psychotherapy  \n",
       "0                       0.2551           Yes  \n",
       "1                       0.2551            No  \n",
       "2                       0.9621           Yes  \n",
       "3                       0.9621           Yes  \n",
       "4                       0.5588           Yes  \n",
       "5                       0.5588            No  \n",
       "6                       1.0000           Yes  \n",
       "7                       1.0000            No  \n",
       "8                       1.0000            No  \n",
       "9                       1.0000            No  \n",
       "10                      1.0000            No  \n",
       "11                      1.0000            No  \n",
       "12                      0.3500            No  \n",
       "13                      0.3500            No  \n",
       "14                      0.7200            No  \n",
       "15                      0.7200            No  \n",
       "16                      0.7200            No  \n",
       "17                      0.2143           Yes  \n",
       "18                      0.2143            No  \n",
       "19                      1.0000            No  \n",
       "20                      1.0000            No  \n",
       "21                      0.4706           Yes  \n",
       "22                      0.4706            No  \n",
       "23                      1.0000           Yes  \n",
       "24                      1.0000            No  "
      ]
     },
     "execution_count": 38,
     "metadata": {},
     "output_type": "execute_result"
    }
   ],
   "source": [
    "h3.head(25)"
   ]
  },
  {
   "cell_type": "markdown",
   "metadata": {},
   "source": [
    "# fix the data that isn't normal and data wrangling on 'h3' dataframe"
   ]
  },
  {
   "cell_type": "code",
   "execution_count": 39,
   "metadata": {},
   "outputs": [
    {
     "name": "stderr",
     "output_type": "stream",
     "text": [
      "<ipython-input-39-3f4a8fc02267>:1: SettingWithCopyWarning: \n",
      "A value is trying to be set on a copy of a slice from a DataFrame\n",
      "\n",
      "See the caveats in the documentation: https://pandas.pydata.org/pandas-docs/stable/user_guide/indexing.html#returning-a-view-versus-a-copy\n",
      "  h3.dropna(inplace=True)\n"
     ]
    }
   ],
   "source": [
    "h3.dropna(inplace=True)"
   ]
  },
  {
   "cell_type": "code",
   "execution_count": 40,
   "metadata": {},
   "outputs": [
    {
     "data": {
      "text/html": [
       "<div>\n",
       "<style scoped>\n",
       "    .dataframe tbody tr th:only-of-type {\n",
       "        vertical-align: middle;\n",
       "    }\n",
       "\n",
       "    .dataframe tbody tr th {\n",
       "        vertical-align: top;\n",
       "    }\n",
       "\n",
       "    .dataframe thead th {\n",
       "        text-align: right;\n",
       "    }\n",
       "</style>\n",
       "<table border=\"1\" class=\"dataframe\">\n",
       "  <thead>\n",
       "    <tr style=\"text-align: right;\">\n",
       "      <th></th>\n",
       "      <th>Attempted Suicide Percent</th>\n",
       "      <th>Veteran Percent (Study level)</th>\n",
       "      <th>Male Percent (Study level)</th>\n",
       "      <th>Psychotherapy</th>\n",
       "    </tr>\n",
       "  </thead>\n",
       "  <tbody>\n",
       "    <tr>\n",
       "      <th>19</th>\n",
       "      <td>0.0000</td>\n",
       "      <td>1.0000</td>\n",
       "      <td>1.0000</td>\n",
       "      <td>No</td>\n",
       "    </tr>\n",
       "    <tr>\n",
       "      <th>20</th>\n",
       "      <td>0.0000</td>\n",
       "      <td>1.0000</td>\n",
       "      <td>1.0000</td>\n",
       "      <td>No</td>\n",
       "    </tr>\n",
       "    <tr>\n",
       "      <th>33</th>\n",
       "      <td>0.0000</td>\n",
       "      <td>1.0000</td>\n",
       "      <td>0.9090</td>\n",
       "      <td>Yes</td>\n",
       "    </tr>\n",
       "    <tr>\n",
       "      <th>34</th>\n",
       "      <td>0.0370</td>\n",
       "      <td>1.0000</td>\n",
       "      <td>0.9090</td>\n",
       "      <td>Yes</td>\n",
       "    </tr>\n",
       "    <tr>\n",
       "      <th>183</th>\n",
       "      <td>0.0000</td>\n",
       "      <td>0.9762</td>\n",
       "      <td>0.9762</td>\n",
       "      <td>No</td>\n",
       "    </tr>\n",
       "    <tr>\n",
       "      <th>184</th>\n",
       "      <td>0.0000</td>\n",
       "      <td>0.9762</td>\n",
       "      <td>0.9762</td>\n",
       "      <td>No</td>\n",
       "    </tr>\n",
       "    <tr>\n",
       "      <th>317</th>\n",
       "      <td>0.0740</td>\n",
       "      <td>0.1190</td>\n",
       "      <td>0.8095</td>\n",
       "      <td>No</td>\n",
       "    </tr>\n",
       "    <tr>\n",
       "      <th>318</th>\n",
       "      <td>0.0000</td>\n",
       "      <td>0.1190</td>\n",
       "      <td>0.8095</td>\n",
       "      <td>No</td>\n",
       "    </tr>\n",
       "    <tr>\n",
       "      <th>387</th>\n",
       "      <td>0.0000</td>\n",
       "      <td>1.0000</td>\n",
       "      <td>0.7872</td>\n",
       "      <td>No</td>\n",
       "    </tr>\n",
       "    <tr>\n",
       "      <th>388</th>\n",
       "      <td>0.0000</td>\n",
       "      <td>1.0000</td>\n",
       "      <td>0.7872</td>\n",
       "      <td>No</td>\n",
       "    </tr>\n",
       "    <tr>\n",
       "      <th>416</th>\n",
       "      <td>0.0000</td>\n",
       "      <td>1.0000</td>\n",
       "      <td>0.9100</td>\n",
       "      <td>No</td>\n",
       "    </tr>\n",
       "    <tr>\n",
       "      <th>417</th>\n",
       "      <td>0.0000</td>\n",
       "      <td>1.0000</td>\n",
       "      <td>0.9100</td>\n",
       "      <td>No</td>\n",
       "    </tr>\n",
       "    <tr>\n",
       "      <th>483</th>\n",
       "      <td>0.0000</td>\n",
       "      <td>0.1000</td>\n",
       "      <td>0.1500</td>\n",
       "      <td>No</td>\n",
       "    </tr>\n",
       "    <tr>\n",
       "      <th>484</th>\n",
       "      <td>0.0000</td>\n",
       "      <td>0.1000</td>\n",
       "      <td>0.1500</td>\n",
       "      <td>No</td>\n",
       "    </tr>\n",
       "    <tr>\n",
       "      <th>497</th>\n",
       "      <td>0.0000</td>\n",
       "      <td>0.0000</td>\n",
       "      <td>0.9500</td>\n",
       "      <td>Yes</td>\n",
       "    </tr>\n",
       "    <tr>\n",
       "      <th>498</th>\n",
       "      <td>0.0000</td>\n",
       "      <td>0.0000</td>\n",
       "      <td>0.9500</td>\n",
       "      <td>No</td>\n",
       "    </tr>\n",
       "    <tr>\n",
       "      <th>509</th>\n",
       "      <td>0.0000</td>\n",
       "      <td>0.8462</td>\n",
       "      <td>0.7308</td>\n",
       "      <td>Yes</td>\n",
       "    </tr>\n",
       "    <tr>\n",
       "      <th>510</th>\n",
       "      <td>0.0000</td>\n",
       "      <td>0.8462</td>\n",
       "      <td>0.7308</td>\n",
       "      <td>Yes</td>\n",
       "    </tr>\n",
       "    <tr>\n",
       "      <th>511</th>\n",
       "      <td>0.0000</td>\n",
       "      <td>0.8462</td>\n",
       "      <td>0.7308</td>\n",
       "      <td>Yes</td>\n",
       "    </tr>\n",
       "    <tr>\n",
       "      <th>537</th>\n",
       "      <td>0.0000</td>\n",
       "      <td>1.0000</td>\n",
       "      <td>0.7308</td>\n",
       "      <td>Yes</td>\n",
       "    </tr>\n",
       "    <tr>\n",
       "      <th>538</th>\n",
       "      <td>0.0000</td>\n",
       "      <td>1.0000</td>\n",
       "      <td>0.7308</td>\n",
       "      <td>Yes</td>\n",
       "    </tr>\n",
       "    <tr>\n",
       "      <th>550</th>\n",
       "      <td>0.0294</td>\n",
       "      <td>1.0000</td>\n",
       "      <td>0.8317</td>\n",
       "      <td>No</td>\n",
       "    </tr>\n",
       "    <tr>\n",
       "      <th>551</th>\n",
       "      <td>0.0000</td>\n",
       "      <td>1.0000</td>\n",
       "      <td>0.8317</td>\n",
       "      <td>Yes</td>\n",
       "    </tr>\n",
       "    <tr>\n",
       "      <th>552</th>\n",
       "      <td>0.0000</td>\n",
       "      <td>1.0000</td>\n",
       "      <td>0.8317</td>\n",
       "      <td>No</td>\n",
       "    </tr>\n",
       "    <tr>\n",
       "      <th>573</th>\n",
       "      <td>0.0000</td>\n",
       "      <td>0.0000</td>\n",
       "      <td>0.3210</td>\n",
       "      <td>Yes</td>\n",
       "    </tr>\n",
       "  </tbody>\n",
       "</table>\n",
       "</div>"
      ],
      "text/plain": [
       "     Attempted Suicide Percent  Veteran Percent (Study level)  \\\n",
       "19                      0.0000                         1.0000   \n",
       "20                      0.0000                         1.0000   \n",
       "33                      0.0000                         1.0000   \n",
       "34                      0.0370                         1.0000   \n",
       "183                     0.0000                         0.9762   \n",
       "184                     0.0000                         0.9762   \n",
       "317                     0.0740                         0.1190   \n",
       "318                     0.0000                         0.1190   \n",
       "387                     0.0000                         1.0000   \n",
       "388                     0.0000                         1.0000   \n",
       "416                     0.0000                         1.0000   \n",
       "417                     0.0000                         1.0000   \n",
       "483                     0.0000                         0.1000   \n",
       "484                     0.0000                         0.1000   \n",
       "497                     0.0000                         0.0000   \n",
       "498                     0.0000                         0.0000   \n",
       "509                     0.0000                         0.8462   \n",
       "510                     0.0000                         0.8462   \n",
       "511                     0.0000                         0.8462   \n",
       "537                     0.0000                         1.0000   \n",
       "538                     0.0000                         1.0000   \n",
       "550                     0.0294                         1.0000   \n",
       "551                     0.0000                         1.0000   \n",
       "552                     0.0000                         1.0000   \n",
       "573                     0.0000                         0.0000   \n",
       "\n",
       "     Male Percent (Study level) Psychotherapy  \n",
       "19                       1.0000            No  \n",
       "20                       1.0000            No  \n",
       "33                       0.9090           Yes  \n",
       "34                       0.9090           Yes  \n",
       "183                      0.9762            No  \n",
       "184                      0.9762            No  \n",
       "317                      0.8095            No  \n",
       "318                      0.8095            No  \n",
       "387                      0.7872            No  \n",
       "388                      0.7872            No  \n",
       "416                      0.9100            No  \n",
       "417                      0.9100            No  \n",
       "483                      0.1500            No  \n",
       "484                      0.1500            No  \n",
       "497                      0.9500           Yes  \n",
       "498                      0.9500            No  \n",
       "509                      0.7308           Yes  \n",
       "510                      0.7308           Yes  \n",
       "511                      0.7308           Yes  \n",
       "537                      0.7308           Yes  \n",
       "538                      0.7308           Yes  \n",
       "550                      0.8317            No  \n",
       "551                      0.8317           Yes  \n",
       "552                      0.8317            No  \n",
       "573                      0.3210           Yes  "
      ]
     },
     "execution_count": 40,
     "metadata": {},
     "output_type": "execute_result"
    }
   ],
   "source": [
    "h3.head(25)"
   ]
  },
  {
   "cell_type": "code",
   "execution_count": 41,
   "metadata": {},
   "outputs": [],
   "source": [
    "def recode_ASP_h3 (series):\n",
    "    if series == 0.00:\n",
    "        return 0\n",
    "    else:\n",
    "        return 1"
   ]
  },
  {
   "cell_type": "code",
   "execution_count": 42,
   "metadata": {},
   "outputs": [
    {
     "name": "stderr",
     "output_type": "stream",
     "text": [
      "<ipython-input-42-4b2c984b6d4c>:1: SettingWithCopyWarning: \n",
      "A value is trying to be set on a copy of a slice from a DataFrame.\n",
      "Try using .loc[row_indexer,col_indexer] = value instead\n",
      "\n",
      "See the caveats in the documentation: https://pandas.pydata.org/pandas-docs/stable/user_guide/indexing.html#returning-a-view-versus-a-copy\n",
      "  h3['asp_recode_h3']=h2['Attempted Suicide Percent'].apply(recode_ASP_h3)\n"
     ]
    }
   ],
   "source": [
    "h3['asp_recode_h3']=h2['Attempted Suicide Percent'].apply(recode_ASP_h3)"
   ]
  },
  {
   "cell_type": "code",
   "execution_count": 43,
   "metadata": {},
   "outputs": [
    {
     "data": {
      "text/html": [
       "<div>\n",
       "<style scoped>\n",
       "    .dataframe tbody tr th:only-of-type {\n",
       "        vertical-align: middle;\n",
       "    }\n",
       "\n",
       "    .dataframe tbody tr th {\n",
       "        vertical-align: top;\n",
       "    }\n",
       "\n",
       "    .dataframe thead th {\n",
       "        text-align: right;\n",
       "    }\n",
       "</style>\n",
       "<table border=\"1\" class=\"dataframe\">\n",
       "  <thead>\n",
       "    <tr style=\"text-align: right;\">\n",
       "      <th></th>\n",
       "      <th>Attempted Suicide Percent</th>\n",
       "      <th>Veteran Percent (Study level)</th>\n",
       "      <th>Male Percent (Study level)</th>\n",
       "      <th>Psychotherapy</th>\n",
       "      <th>asp_recode_h3</th>\n",
       "    </tr>\n",
       "  </thead>\n",
       "  <tbody>\n",
       "    <tr>\n",
       "      <th>19</th>\n",
       "      <td>0.0000</td>\n",
       "      <td>1.0000</td>\n",
       "      <td>1.0000</td>\n",
       "      <td>No</td>\n",
       "      <td>0</td>\n",
       "    </tr>\n",
       "    <tr>\n",
       "      <th>20</th>\n",
       "      <td>0.0000</td>\n",
       "      <td>1.0000</td>\n",
       "      <td>1.0000</td>\n",
       "      <td>No</td>\n",
       "      <td>0</td>\n",
       "    </tr>\n",
       "    <tr>\n",
       "      <th>33</th>\n",
       "      <td>0.0000</td>\n",
       "      <td>1.0000</td>\n",
       "      <td>0.9090</td>\n",
       "      <td>Yes</td>\n",
       "      <td>0</td>\n",
       "    </tr>\n",
       "    <tr>\n",
       "      <th>34</th>\n",
       "      <td>0.0370</td>\n",
       "      <td>1.0000</td>\n",
       "      <td>0.9090</td>\n",
       "      <td>Yes</td>\n",
       "      <td>1</td>\n",
       "    </tr>\n",
       "    <tr>\n",
       "      <th>183</th>\n",
       "      <td>0.0000</td>\n",
       "      <td>0.9762</td>\n",
       "      <td>0.9762</td>\n",
       "      <td>No</td>\n",
       "      <td>0</td>\n",
       "    </tr>\n",
       "    <tr>\n",
       "      <th>184</th>\n",
       "      <td>0.0000</td>\n",
       "      <td>0.9762</td>\n",
       "      <td>0.9762</td>\n",
       "      <td>No</td>\n",
       "      <td>0</td>\n",
       "    </tr>\n",
       "    <tr>\n",
       "      <th>317</th>\n",
       "      <td>0.0740</td>\n",
       "      <td>0.1190</td>\n",
       "      <td>0.8095</td>\n",
       "      <td>No</td>\n",
       "      <td>1</td>\n",
       "    </tr>\n",
       "    <tr>\n",
       "      <th>318</th>\n",
       "      <td>0.0000</td>\n",
       "      <td>0.1190</td>\n",
       "      <td>0.8095</td>\n",
       "      <td>No</td>\n",
       "      <td>0</td>\n",
       "    </tr>\n",
       "    <tr>\n",
       "      <th>387</th>\n",
       "      <td>0.0000</td>\n",
       "      <td>1.0000</td>\n",
       "      <td>0.7872</td>\n",
       "      <td>No</td>\n",
       "      <td>0</td>\n",
       "    </tr>\n",
       "    <tr>\n",
       "      <th>388</th>\n",
       "      <td>0.0000</td>\n",
       "      <td>1.0000</td>\n",
       "      <td>0.7872</td>\n",
       "      <td>No</td>\n",
       "      <td>0</td>\n",
       "    </tr>\n",
       "    <tr>\n",
       "      <th>416</th>\n",
       "      <td>0.0000</td>\n",
       "      <td>1.0000</td>\n",
       "      <td>0.9100</td>\n",
       "      <td>No</td>\n",
       "      <td>0</td>\n",
       "    </tr>\n",
       "    <tr>\n",
       "      <th>417</th>\n",
       "      <td>0.0000</td>\n",
       "      <td>1.0000</td>\n",
       "      <td>0.9100</td>\n",
       "      <td>No</td>\n",
       "      <td>0</td>\n",
       "    </tr>\n",
       "    <tr>\n",
       "      <th>483</th>\n",
       "      <td>0.0000</td>\n",
       "      <td>0.1000</td>\n",
       "      <td>0.1500</td>\n",
       "      <td>No</td>\n",
       "      <td>0</td>\n",
       "    </tr>\n",
       "    <tr>\n",
       "      <th>484</th>\n",
       "      <td>0.0000</td>\n",
       "      <td>0.1000</td>\n",
       "      <td>0.1500</td>\n",
       "      <td>No</td>\n",
       "      <td>0</td>\n",
       "    </tr>\n",
       "    <tr>\n",
       "      <th>497</th>\n",
       "      <td>0.0000</td>\n",
       "      <td>0.0000</td>\n",
       "      <td>0.9500</td>\n",
       "      <td>Yes</td>\n",
       "      <td>0</td>\n",
       "    </tr>\n",
       "    <tr>\n",
       "      <th>498</th>\n",
       "      <td>0.0000</td>\n",
       "      <td>0.0000</td>\n",
       "      <td>0.9500</td>\n",
       "      <td>No</td>\n",
       "      <td>0</td>\n",
       "    </tr>\n",
       "    <tr>\n",
       "      <th>509</th>\n",
       "      <td>0.0000</td>\n",
       "      <td>0.8462</td>\n",
       "      <td>0.7308</td>\n",
       "      <td>Yes</td>\n",
       "      <td>0</td>\n",
       "    </tr>\n",
       "    <tr>\n",
       "      <th>510</th>\n",
       "      <td>0.0000</td>\n",
       "      <td>0.8462</td>\n",
       "      <td>0.7308</td>\n",
       "      <td>Yes</td>\n",
       "      <td>0</td>\n",
       "    </tr>\n",
       "    <tr>\n",
       "      <th>511</th>\n",
       "      <td>0.0000</td>\n",
       "      <td>0.8462</td>\n",
       "      <td>0.7308</td>\n",
       "      <td>Yes</td>\n",
       "      <td>0</td>\n",
       "    </tr>\n",
       "    <tr>\n",
       "      <th>537</th>\n",
       "      <td>0.0000</td>\n",
       "      <td>1.0000</td>\n",
       "      <td>0.7308</td>\n",
       "      <td>Yes</td>\n",
       "      <td>0</td>\n",
       "    </tr>\n",
       "    <tr>\n",
       "      <th>538</th>\n",
       "      <td>0.0000</td>\n",
       "      <td>1.0000</td>\n",
       "      <td>0.7308</td>\n",
       "      <td>Yes</td>\n",
       "      <td>0</td>\n",
       "    </tr>\n",
       "    <tr>\n",
       "      <th>550</th>\n",
       "      <td>0.0294</td>\n",
       "      <td>1.0000</td>\n",
       "      <td>0.8317</td>\n",
       "      <td>No</td>\n",
       "      <td>1</td>\n",
       "    </tr>\n",
       "    <tr>\n",
       "      <th>551</th>\n",
       "      <td>0.0000</td>\n",
       "      <td>1.0000</td>\n",
       "      <td>0.8317</td>\n",
       "      <td>Yes</td>\n",
       "      <td>0</td>\n",
       "    </tr>\n",
       "    <tr>\n",
       "      <th>552</th>\n",
       "      <td>0.0000</td>\n",
       "      <td>1.0000</td>\n",
       "      <td>0.8317</td>\n",
       "      <td>No</td>\n",
       "      <td>0</td>\n",
       "    </tr>\n",
       "    <tr>\n",
       "      <th>573</th>\n",
       "      <td>0.0000</td>\n",
       "      <td>0.0000</td>\n",
       "      <td>0.3210</td>\n",
       "      <td>Yes</td>\n",
       "      <td>0</td>\n",
       "    </tr>\n",
       "  </tbody>\n",
       "</table>\n",
       "</div>"
      ],
      "text/plain": [
       "     Attempted Suicide Percent  Veteran Percent (Study level)  \\\n",
       "19                      0.0000                         1.0000   \n",
       "20                      0.0000                         1.0000   \n",
       "33                      0.0000                         1.0000   \n",
       "34                      0.0370                         1.0000   \n",
       "183                     0.0000                         0.9762   \n",
       "184                     0.0000                         0.9762   \n",
       "317                     0.0740                         0.1190   \n",
       "318                     0.0000                         0.1190   \n",
       "387                     0.0000                         1.0000   \n",
       "388                     0.0000                         1.0000   \n",
       "416                     0.0000                         1.0000   \n",
       "417                     0.0000                         1.0000   \n",
       "483                     0.0000                         0.1000   \n",
       "484                     0.0000                         0.1000   \n",
       "497                     0.0000                         0.0000   \n",
       "498                     0.0000                         0.0000   \n",
       "509                     0.0000                         0.8462   \n",
       "510                     0.0000                         0.8462   \n",
       "511                     0.0000                         0.8462   \n",
       "537                     0.0000                         1.0000   \n",
       "538                     0.0000                         1.0000   \n",
       "550                     0.0294                         1.0000   \n",
       "551                     0.0000                         1.0000   \n",
       "552                     0.0000                         1.0000   \n",
       "573                     0.0000                         0.0000   \n",
       "\n",
       "     Male Percent (Study level) Psychotherapy  asp_recode_h3  \n",
       "19                       1.0000            No              0  \n",
       "20                       1.0000            No              0  \n",
       "33                       0.9090           Yes              0  \n",
       "34                       0.9090           Yes              1  \n",
       "183                      0.9762            No              0  \n",
       "184                      0.9762            No              0  \n",
       "317                      0.8095            No              1  \n",
       "318                      0.8095            No              0  \n",
       "387                      0.7872            No              0  \n",
       "388                      0.7872            No              0  \n",
       "416                      0.9100            No              0  \n",
       "417                      0.9100            No              0  \n",
       "483                      0.1500            No              0  \n",
       "484                      0.1500            No              0  \n",
       "497                      0.9500           Yes              0  \n",
       "498                      0.9500            No              0  \n",
       "509                      0.7308           Yes              0  \n",
       "510                      0.7308           Yes              0  \n",
       "511                      0.7308           Yes              0  \n",
       "537                      0.7308           Yes              0  \n",
       "538                      0.7308           Yes              0  \n",
       "550                      0.8317            No              1  \n",
       "551                      0.8317           Yes              0  \n",
       "552                      0.8317            No              0  \n",
       "573                      0.3210           Yes              0  "
      ]
     },
     "execution_count": 43,
     "metadata": {},
     "output_type": "execute_result"
    }
   ],
   "source": [
    "h3.head(25)"
   ]
  },
  {
   "cell_type": "code",
   "execution_count": 44,
   "metadata": {},
   "outputs": [],
   "source": [
    "def recode_Psychotherapy_h3 (series):\n",
    "    if series == 'No':\n",
    "        return 0\n",
    "    if series == 'Yes':\n",
    "        return 1"
   ]
  },
  {
   "cell_type": "code",
   "execution_count": 45,
   "metadata": {},
   "outputs": [
    {
     "name": "stderr",
     "output_type": "stream",
     "text": [
      "<ipython-input-45-1f6ae0f13f96>:1: SettingWithCopyWarning: \n",
      "A value is trying to be set on a copy of a slice from a DataFrame.\n",
      "Try using .loc[row_indexer,col_indexer] = value instead\n",
      "\n",
      "See the caveats in the documentation: https://pandas.pydata.org/pandas-docs/stable/user_guide/indexing.html#returning-a-view-versus-a-copy\n",
      "  h3['Psychotherapy_recode_h3']=h3['Psychotherapy'].apply(recode_Psychotherapy_h3)\n"
     ]
    }
   ],
   "source": [
    "h3['Psychotherapy_recode_h3']=h3['Psychotherapy'].apply(recode_Psychotherapy_h3)"
   ]
  },
  {
   "cell_type": "code",
   "execution_count": 46,
   "metadata": {},
   "outputs": [
    {
     "data": {
      "text/html": [
       "<div>\n",
       "<style scoped>\n",
       "    .dataframe tbody tr th:only-of-type {\n",
       "        vertical-align: middle;\n",
       "    }\n",
       "\n",
       "    .dataframe tbody tr th {\n",
       "        vertical-align: top;\n",
       "    }\n",
       "\n",
       "    .dataframe thead th {\n",
       "        text-align: right;\n",
       "    }\n",
       "</style>\n",
       "<table border=\"1\" class=\"dataframe\">\n",
       "  <thead>\n",
       "    <tr style=\"text-align: right;\">\n",
       "      <th></th>\n",
       "      <th>Attempted Suicide Percent</th>\n",
       "      <th>Veteran Percent (Study level)</th>\n",
       "      <th>Male Percent (Study level)</th>\n",
       "      <th>Psychotherapy</th>\n",
       "      <th>asp_recode_h3</th>\n",
       "      <th>Psychotherapy_recode_h3</th>\n",
       "    </tr>\n",
       "  </thead>\n",
       "  <tbody>\n",
       "    <tr>\n",
       "      <th>19</th>\n",
       "      <td>0.0000</td>\n",
       "      <td>1.0000</td>\n",
       "      <td>1.0000</td>\n",
       "      <td>No</td>\n",
       "      <td>0</td>\n",
       "      <td>0</td>\n",
       "    </tr>\n",
       "    <tr>\n",
       "      <th>20</th>\n",
       "      <td>0.0000</td>\n",
       "      <td>1.0000</td>\n",
       "      <td>1.0000</td>\n",
       "      <td>No</td>\n",
       "      <td>0</td>\n",
       "      <td>0</td>\n",
       "    </tr>\n",
       "    <tr>\n",
       "      <th>33</th>\n",
       "      <td>0.0000</td>\n",
       "      <td>1.0000</td>\n",
       "      <td>0.9090</td>\n",
       "      <td>Yes</td>\n",
       "      <td>0</td>\n",
       "      <td>1</td>\n",
       "    </tr>\n",
       "    <tr>\n",
       "      <th>34</th>\n",
       "      <td>0.0370</td>\n",
       "      <td>1.0000</td>\n",
       "      <td>0.9090</td>\n",
       "      <td>Yes</td>\n",
       "      <td>1</td>\n",
       "      <td>1</td>\n",
       "    </tr>\n",
       "    <tr>\n",
       "      <th>183</th>\n",
       "      <td>0.0000</td>\n",
       "      <td>0.9762</td>\n",
       "      <td>0.9762</td>\n",
       "      <td>No</td>\n",
       "      <td>0</td>\n",
       "      <td>0</td>\n",
       "    </tr>\n",
       "    <tr>\n",
       "      <th>184</th>\n",
       "      <td>0.0000</td>\n",
       "      <td>0.9762</td>\n",
       "      <td>0.9762</td>\n",
       "      <td>No</td>\n",
       "      <td>0</td>\n",
       "      <td>0</td>\n",
       "    </tr>\n",
       "    <tr>\n",
       "      <th>317</th>\n",
       "      <td>0.0740</td>\n",
       "      <td>0.1190</td>\n",
       "      <td>0.8095</td>\n",
       "      <td>No</td>\n",
       "      <td>1</td>\n",
       "      <td>0</td>\n",
       "    </tr>\n",
       "    <tr>\n",
       "      <th>318</th>\n",
       "      <td>0.0000</td>\n",
       "      <td>0.1190</td>\n",
       "      <td>0.8095</td>\n",
       "      <td>No</td>\n",
       "      <td>0</td>\n",
       "      <td>0</td>\n",
       "    </tr>\n",
       "    <tr>\n",
       "      <th>387</th>\n",
       "      <td>0.0000</td>\n",
       "      <td>1.0000</td>\n",
       "      <td>0.7872</td>\n",
       "      <td>No</td>\n",
       "      <td>0</td>\n",
       "      <td>0</td>\n",
       "    </tr>\n",
       "    <tr>\n",
       "      <th>388</th>\n",
       "      <td>0.0000</td>\n",
       "      <td>1.0000</td>\n",
       "      <td>0.7872</td>\n",
       "      <td>No</td>\n",
       "      <td>0</td>\n",
       "      <td>0</td>\n",
       "    </tr>\n",
       "    <tr>\n",
       "      <th>416</th>\n",
       "      <td>0.0000</td>\n",
       "      <td>1.0000</td>\n",
       "      <td>0.9100</td>\n",
       "      <td>No</td>\n",
       "      <td>0</td>\n",
       "      <td>0</td>\n",
       "    </tr>\n",
       "    <tr>\n",
       "      <th>417</th>\n",
       "      <td>0.0000</td>\n",
       "      <td>1.0000</td>\n",
       "      <td>0.9100</td>\n",
       "      <td>No</td>\n",
       "      <td>0</td>\n",
       "      <td>0</td>\n",
       "    </tr>\n",
       "    <tr>\n",
       "      <th>483</th>\n",
       "      <td>0.0000</td>\n",
       "      <td>0.1000</td>\n",
       "      <td>0.1500</td>\n",
       "      <td>No</td>\n",
       "      <td>0</td>\n",
       "      <td>0</td>\n",
       "    </tr>\n",
       "    <tr>\n",
       "      <th>484</th>\n",
       "      <td>0.0000</td>\n",
       "      <td>0.1000</td>\n",
       "      <td>0.1500</td>\n",
       "      <td>No</td>\n",
       "      <td>0</td>\n",
       "      <td>0</td>\n",
       "    </tr>\n",
       "    <tr>\n",
       "      <th>497</th>\n",
       "      <td>0.0000</td>\n",
       "      <td>0.0000</td>\n",
       "      <td>0.9500</td>\n",
       "      <td>Yes</td>\n",
       "      <td>0</td>\n",
       "      <td>1</td>\n",
       "    </tr>\n",
       "    <tr>\n",
       "      <th>498</th>\n",
       "      <td>0.0000</td>\n",
       "      <td>0.0000</td>\n",
       "      <td>0.9500</td>\n",
       "      <td>No</td>\n",
       "      <td>0</td>\n",
       "      <td>0</td>\n",
       "    </tr>\n",
       "    <tr>\n",
       "      <th>509</th>\n",
       "      <td>0.0000</td>\n",
       "      <td>0.8462</td>\n",
       "      <td>0.7308</td>\n",
       "      <td>Yes</td>\n",
       "      <td>0</td>\n",
       "      <td>1</td>\n",
       "    </tr>\n",
       "    <tr>\n",
       "      <th>510</th>\n",
       "      <td>0.0000</td>\n",
       "      <td>0.8462</td>\n",
       "      <td>0.7308</td>\n",
       "      <td>Yes</td>\n",
       "      <td>0</td>\n",
       "      <td>1</td>\n",
       "    </tr>\n",
       "    <tr>\n",
       "      <th>511</th>\n",
       "      <td>0.0000</td>\n",
       "      <td>0.8462</td>\n",
       "      <td>0.7308</td>\n",
       "      <td>Yes</td>\n",
       "      <td>0</td>\n",
       "      <td>1</td>\n",
       "    </tr>\n",
       "    <tr>\n",
       "      <th>537</th>\n",
       "      <td>0.0000</td>\n",
       "      <td>1.0000</td>\n",
       "      <td>0.7308</td>\n",
       "      <td>Yes</td>\n",
       "      <td>0</td>\n",
       "      <td>1</td>\n",
       "    </tr>\n",
       "    <tr>\n",
       "      <th>538</th>\n",
       "      <td>0.0000</td>\n",
       "      <td>1.0000</td>\n",
       "      <td>0.7308</td>\n",
       "      <td>Yes</td>\n",
       "      <td>0</td>\n",
       "      <td>1</td>\n",
       "    </tr>\n",
       "    <tr>\n",
       "      <th>550</th>\n",
       "      <td>0.0294</td>\n",
       "      <td>1.0000</td>\n",
       "      <td>0.8317</td>\n",
       "      <td>No</td>\n",
       "      <td>1</td>\n",
       "      <td>0</td>\n",
       "    </tr>\n",
       "    <tr>\n",
       "      <th>551</th>\n",
       "      <td>0.0000</td>\n",
       "      <td>1.0000</td>\n",
       "      <td>0.8317</td>\n",
       "      <td>Yes</td>\n",
       "      <td>0</td>\n",
       "      <td>1</td>\n",
       "    </tr>\n",
       "    <tr>\n",
       "      <th>552</th>\n",
       "      <td>0.0000</td>\n",
       "      <td>1.0000</td>\n",
       "      <td>0.8317</td>\n",
       "      <td>No</td>\n",
       "      <td>0</td>\n",
       "      <td>0</td>\n",
       "    </tr>\n",
       "    <tr>\n",
       "      <th>573</th>\n",
       "      <td>0.0000</td>\n",
       "      <td>0.0000</td>\n",
       "      <td>0.3210</td>\n",
       "      <td>Yes</td>\n",
       "      <td>0</td>\n",
       "      <td>1</td>\n",
       "    </tr>\n",
       "  </tbody>\n",
       "</table>\n",
       "</div>"
      ],
      "text/plain": [
       "     Attempted Suicide Percent  Veteran Percent (Study level)  \\\n",
       "19                      0.0000                         1.0000   \n",
       "20                      0.0000                         1.0000   \n",
       "33                      0.0000                         1.0000   \n",
       "34                      0.0370                         1.0000   \n",
       "183                     0.0000                         0.9762   \n",
       "184                     0.0000                         0.9762   \n",
       "317                     0.0740                         0.1190   \n",
       "318                     0.0000                         0.1190   \n",
       "387                     0.0000                         1.0000   \n",
       "388                     0.0000                         1.0000   \n",
       "416                     0.0000                         1.0000   \n",
       "417                     0.0000                         1.0000   \n",
       "483                     0.0000                         0.1000   \n",
       "484                     0.0000                         0.1000   \n",
       "497                     0.0000                         0.0000   \n",
       "498                     0.0000                         0.0000   \n",
       "509                     0.0000                         0.8462   \n",
       "510                     0.0000                         0.8462   \n",
       "511                     0.0000                         0.8462   \n",
       "537                     0.0000                         1.0000   \n",
       "538                     0.0000                         1.0000   \n",
       "550                     0.0294                         1.0000   \n",
       "551                     0.0000                         1.0000   \n",
       "552                     0.0000                         1.0000   \n",
       "573                     0.0000                         0.0000   \n",
       "\n",
       "     Male Percent (Study level) Psychotherapy  asp_recode_h3  \\\n",
       "19                       1.0000            No              0   \n",
       "20                       1.0000            No              0   \n",
       "33                       0.9090           Yes              0   \n",
       "34                       0.9090           Yes              1   \n",
       "183                      0.9762            No              0   \n",
       "184                      0.9762            No              0   \n",
       "317                      0.8095            No              1   \n",
       "318                      0.8095            No              0   \n",
       "387                      0.7872            No              0   \n",
       "388                      0.7872            No              0   \n",
       "416                      0.9100            No              0   \n",
       "417                      0.9100            No              0   \n",
       "483                      0.1500            No              0   \n",
       "484                      0.1500            No              0   \n",
       "497                      0.9500           Yes              0   \n",
       "498                      0.9500            No              0   \n",
       "509                      0.7308           Yes              0   \n",
       "510                      0.7308           Yes              0   \n",
       "511                      0.7308           Yes              0   \n",
       "537                      0.7308           Yes              0   \n",
       "538                      0.7308           Yes              0   \n",
       "550                      0.8317            No              1   \n",
       "551                      0.8317           Yes              0   \n",
       "552                      0.8317            No              0   \n",
       "573                      0.3210           Yes              0   \n",
       "\n",
       "     Psychotherapy_recode_h3  \n",
       "19                         0  \n",
       "20                         0  \n",
       "33                         1  \n",
       "34                         1  \n",
       "183                        0  \n",
       "184                        0  \n",
       "317                        0  \n",
       "318                        0  \n",
       "387                        0  \n",
       "388                        0  \n",
       "416                        0  \n",
       "417                        0  \n",
       "483                        0  \n",
       "484                        0  \n",
       "497                        1  \n",
       "498                        0  \n",
       "509                        1  \n",
       "510                        1  \n",
       "511                        1  \n",
       "537                        1  \n",
       "538                        1  \n",
       "550                        0  \n",
       "551                        1  \n",
       "552                        0  \n",
       "573                        1  "
      ]
     },
     "execution_count": 46,
     "metadata": {},
     "output_type": "execute_result"
    }
   ],
   "source": [
    "h3.head(25)"
   ]
  },
  {
   "cell_type": "markdown",
   "metadata": {},
   "source": [
    "# Run a logical Logical Regression model"
   ]
  },
  {
   "cell_type": "code",
   "execution_count": 47,
   "metadata": {},
   "outputs": [],
   "source": [
    "x = h3[['Veteran Percent (Study level)', 'Male Percent (Study level)','Psychotherapy_recode_h3']]\n",
    "y = h3['asp_recode_h3']"
   ]
  },
  {
   "cell_type": "code",
   "execution_count": 48,
   "metadata": {},
   "outputs": [
    {
     "name": "stdout",
     "output_type": "stream",
     "text": [
      "Optimization terminated successfully.\n",
      "         Current function value: 0.480285\n",
      "         Iterations 6\n",
      "                               Results: Logit\n",
      "=============================================================================\n",
      "Model:                    Logit                Pseudo R-squared:     0.114   \n",
      "Dependent Variable:       asp_recode_h3        AIC:                  47.3045 \n",
      "Date:                     2021-11-18 14:54     BIC:                  52.5881 \n",
      "No. Observations:         43                   Log-Likelihood:       -20.652 \n",
      "Df Model:                 2                    LL-Null:              -23.321 \n",
      "Df Residuals:             40                   LLR p-value:          0.069338\n",
      "Converged:                1.0000               Scale:                1.0000  \n",
      "No. Iterations:           6.0000                                             \n",
      "-----------------------------------------------------------------------------\n",
      "                               Coef.  Std.Err.    z    P>|z|   [0.025  0.975]\n",
      "-----------------------------------------------------------------------------\n",
      "Veteran Percent (Study level)  0.5186   0.8375  0.6193 0.5358 -1.1228  2.1600\n",
      "Male Percent (Study level)    -2.5685   0.9043 -2.8402 0.0045 -4.3409 -0.7960\n",
      "Psychotherapy_recode_h3        0.4434   0.6686  0.6631 0.5073 -0.8671  1.7538\n",
      "=============================================================================\n",
      "\n"
     ]
    }
   ],
   "source": [
    "logit = sm.Logit(y,x)\n",
    "results = logit.fit()\n",
    "print(results.summary2())"
   ]
  },
  {
   "cell_type": "code",
   "execution_count": 49,
   "metadata": {},
   "outputs": [],
   "source": [
    "# here we see a significant P-value of .0045 in Male Percentage (Study level)"
   ]
  },
  {
   "cell_type": "markdown",
   "metadata": {},
   "source": [
    "# bar chart the h3 Attempted Suicide and the male percentage"
   ]
  },
  {
   "cell_type": "code",
   "execution_count": 50,
   "metadata": {},
   "outputs": [
    {
     "data": {
      "text/plain": [
       "<AxesSubplot:xlabel='asp_recode_h3', ylabel='Male Percent (Study level)'>"
      ]
     },
     "execution_count": 50,
     "metadata": {},
     "output_type": "execute_result"
    },
    {
     "data": {
      "image/png": "[encoded data removed]",
      "text/plain": [
       "<Figure size 432x288 with 1 Axes>"
      ]
     },
     "metadata": {
      "needs_background": "light"
     },
     "output_type": "display_data"
    }
   ],
   "source": [
    "sns.barplot(x='asp_recode_h3', y='Male Percent (Study level)', data=h3)"
   ]
  },
  {
   "cell_type": "markdown",
   "metadata": {},
   "source": [
    "# Visualize the rest of the H3 data frame..."
   ]
  },
  {
   "cell_type": "code",
   "execution_count": null,
   "metadata": {},
   "outputs": [],
   "source": []
  },
  {
   "cell_type": "code",
   "execution_count": 51,
   "metadata": {},
   "outputs": [
    {
     "data": {
      "text/plain": [
       "<AxesSubplot:xlabel='asp_recode_h3', ylabel='Psychotherapy_recode_h3'>"
      ]
     },
     "execution_count": 51,
     "metadata": {},
     "output_type": "execute_result"
    },
    {
     "data": {
      "image/png": "[encoded data removed]",
      "text/plain": [
       "<Figure size 432x288 with 1 Axes>"
      ]
     },
     "metadata": {
      "needs_background": "light"
     },
     "output_type": "display_data"
    }
   ],
   "source": [
    "sns.barplot(x='asp_recode_h3', y='Psychotherapy_recode_h3', data=h3)"
   ]
  },
  {
   "cell_type": "code",
   "execution_count": 52,
   "metadata": {},
   "outputs": [
    {
     "data": {
      "image/png": "[encoded data removed]",
      "text/plain": [
       "<Figure size 432x288 with 1 Axes>"
      ]
     },
     "metadata": {
      "needs_background": "light"
     },
     "output_type": "display_data"
    }
   ],
   "source": [
    "ax = sns.barplot(x=\"asp_recode_h3\", y=\"Male Percent (Study level)\", hue=\"Veteran Percent (Study level)\", data=h3)\n"
   ]
  },
  {
   "cell_type": "code",
   "execution_count": 53,
   "metadata": {},
   "outputs": [
    {
     "data": {
      "text/plain": [
       "<AxesSubplot:xlabel='asp_recode_h3', ylabel='Male Percent (Study level)'>"
      ]
     },
     "execution_count": 53,
     "metadata": {},
     "output_type": "execute_result"
    },
    {
     "data": {
      "image/png": "[encoded data removed]",
      "text/plain": [
       "<Figure size 432x288 with 1 Axes>"
      ]
     },
     "metadata": {
      "needs_background": "light"
     },
     "output_type": "display_data"
    }
   ],
   "source": [
    "sns.lineplot(\n",
    "    data=h3,\n",
    "    x='asp_recode_h3', y='Male Percent (Study level)', hue='Psychotherapy_recode_h3', style='Psychotherapy_recode_h3',\n",
    "    markers=True, dashes=False\n",
    ")"
   ]
  },
  {
   "cell_type": "markdown",
   "metadata": {},
   "source": [
    "# Summary barplot"
   ]
  },
  {
   "cell_type": "code",
   "execution_count": 54,
   "metadata": {},
   "outputs": [
    {
     "data": {
      "text/plain": [
       "<AxesSubplot:xlabel='asp_recode_h3', ylabel='Psychotherapy_recode_h3'>"
      ]
     },
     "execution_count": 54,
     "metadata": {},
     "output_type": "execute_result"
    },
    {
     "data": {
      "image/png": "[encoded data removed]",
      "text/plain": [
       "<Figure size 432x288 with 1 Axes>"
      ]
     },
     "metadata": {
      "needs_background": "light"
     },
     "output_type": "display_data"
    }
   ],
   "source": [
    "sns.barplot(\n",
    "    data=h3,\n",
    "    x='asp_recode_h3', y='Psychotherapy_recode_h3')"
   ]
  },
  {
   "cell_type": "code",
   "execution_count": 55,
   "metadata": {},
   "outputs": [
    {
     "data": {
      "text/plain": [
       "<AxesSubplot:xlabel='asp_recode_h3', ylabel='Veteran Percent (Study level)'>"
      ]
     },
     "execution_count": 55,
     "metadata": {},
     "output_type": "execute_result"
    },
    {
     "data": {
      "image/png": "[encoded data removed]",
      "text/plain": [
       "<Figure size 432x288 with 1 Axes>"
      ]
     },
     "metadata": {
      "needs_background": "light"
     },
     "output_type": "display_data"
    }
   ],
   "source": [
    "sns.lineplot(\n",
    "    data=h3,\n",
    "    x='asp_recode_h3', y='Veteran Percent (Study level)', hue='Psychotherapy_recode_h3', style='Psychotherapy_recode_h3',\n",
    "    markers=True, dashes=False\n",
    ")"
   ]
  },
  {
   "cell_type": "markdown",
   "metadata": {},
   "source": [
    "# Decision Tree model"
   ]
  },
  {
   "cell_type": "code",
   "execution_count": 56,
   "metadata": {},
   "outputs": [],
   "source": [
    "from sklearn.model_selection import train_test_split\n",
    "from sklearn.tree import DecisionTreeClassifier\n",
    "from sklearn.metrics import classification_report, confusion_matrix, accuracy_score"
   ]
  },
  {
   "cell_type": "markdown",
   "metadata": {},
   "source": [
    "# Define x and y variables"
   ]
  },
  {
   "cell_type": "code",
   "execution_count": 57,
   "metadata": {},
   "outputs": [],
   "source": [
    "x = h3[['Veteran Percent (Study level)', 'Male Percent (Study level)','Psychotherapy_recode_h3']]\n",
    "y = h3['asp_recode_h3']"
   ]
  },
  {
   "cell_type": "markdown",
   "metadata": {},
   "source": [
    "# Train Test, split"
   ]
  },
  {
   "cell_type": "code",
   "execution_count": 58,
   "metadata": {},
   "outputs": [],
   "source": [
    "x_train, x_test, y_train, y_test = train_test_split(x,y, test_size=0.3, random_state=76)"
   ]
  },
  {
   "cell_type": "markdown",
   "metadata": {},
   "source": [
    "# initial decision tree"
   ]
  },
  {
   "cell_type": "code",
   "execution_count": 79,
   "metadata": {},
   "outputs": [
    {
     "data": {
      "text/plain": [
       "DecisionTreeClassifier(random_state=76)"
      ]
     },
     "execution_count": 79,
     "metadata": {},
     "output_type": "execute_result"
    }
   ],
   "source": [
    "decisionTree = DecisionTreeClassifier( random_state=76)\n",
    "decisionTree.fit(x_train, y_train)"
   ]
  },
  {
   "cell_type": "code",
   "execution_count": 83,
   "metadata": {},
   "outputs": [
    {
     "name": "stdout",
     "output_type": "stream",
     "text": [
      "[[5 3]\n",
      " [5 0]]\n"
     ]
    }
   ],
   "source": [
    "treePredictions =decisionTree.predict(x_test)\n",
    "print(confusion_matrix(y_test, treePredictions))"
   ]
  },
  {
   "cell_type": "code",
   "execution_count": 84,
   "metadata": {},
   "outputs": [
    {
     "name": "stdout",
     "output_type": "stream",
     "text": [
      "              precision    recall  f1-score   support\n",
      "\n",
      "           0       0.50      0.62      0.56         8\n",
      "           1       0.00      0.00      0.00         5\n",
      "\n",
      "    accuracy                           0.38        13\n",
      "   macro avg       0.25      0.31      0.28        13\n",
      "weighted avg       0.31      0.38      0.34        13\n",
      "\n"
     ]
    }
   ],
   "source": [
    "print(classification_report(y_test, treePredictions))"
   ]
  },
  {
   "cell_type": "code",
   "execution_count": 85,
   "metadata": {},
   "outputs": [
    {
     "data": {
      "text/plain": [
       "(13, 3)"
      ]
     },
     "execution_count": 85,
     "metadata": {},
     "output_type": "execute_result"
    }
   ],
   "source": [
    "x_test.shape\n"
   ]
  },
  {
   "cell_type": "code",
   "execution_count": null,
   "metadata": {},
   "outputs": [],
   "source": []
  },
  {
   "cell_type": "code",
   "execution_count": 86,
   "metadata": {},
   "outputs": [
    {
     "data": {
      "text/plain": [
       "(0, 43)"
      ]
     },
     "execution_count": 86,
     "metadata": {},
     "output_type": "execute_result"
    }
   ],
   "source": [
    "harms.shape"
   ]
  },
  {
   "cell_type": "code",
   "execution_count": 87,
   "metadata": {},
   "outputs": [
    {
     "data": {
      "text/plain": [
       "Series([], Name: Attempted Suicide Percent, dtype: int64)"
      ]
     },
     "execution_count": 87,
     "metadata": {},
     "output_type": "execute_result"
    }
   ],
   "source": [
    "harms['Attempted Suicide Percent'].value_counts(dropna=False)"
   ]
  },
  {
   "cell_type": "code",
   "execution_count": 88,
   "metadata": {},
   "outputs": [],
   "source": [
    "from sklearn.metrics import plot_confusion_matrix"
   ]
  },
  {
   "cell_type": "code",
   "execution_count": 89,
   "metadata": {},
   "outputs": [
    {
     "data": {
      "image/png": "[encoded data removed]",
      "text/plain": [
       "<Figure size 432x288 with 2 Axes>"
      ]
     },
     "metadata": {
      "needs_background": "light"
     },
     "output_type": "display_data"
    }
   ],
   "source": [
    "plot_confusion_matrix(decisionTree, x_test, y_test)  \n",
    "plt.show()\n"
   ]
  },
  {
   "cell_type": "code",
   "execution_count": 90,
   "metadata": {},
   "outputs": [
    {
     "data": {
      "text/plain": [
       "(43, 6)"
      ]
     },
     "execution_count": 90,
     "metadata": {},
     "output_type": "execute_result"
    }
   ],
   "source": [
    "h3.shape"
   ]
  },
  {
   "cell_type": "code",
   "execution_count": 91,
   "metadata": {},
   "outputs": [
    {
     "data": {
      "text/plain": [
       "Index(['study_id', 'Study Class', 'Treatment Focus (Study level)',\n",
       "       'Intervention Group', 'Treatment Focus (Arm level)',\n",
       "       'Treatment Focus Subclass', 'Treatment Name', 'NCPTSD Treatment Name',\n",
       "       'Psychotherapy', 'Psychotherapy Subclass', 'Pharmacotherapy',\n",
       "       'Pharmacotherapy Subclass', 'CIH', 'CIH Subclass',\n",
       "       'Nonpharmacologic Biologic', 'Nonpharmacologic Cognitive', 'Control',\n",
       "       'Other', 'Collaborative Care', 'Format', 'Delivery Method',\n",
       "       'Arm N Randomized', 'Serious Adverse Event Percent',\n",
       "       'Serious Adverse Event Detail',\n",
       "       'Withdrawal Due to Adverse Events Percent',\n",
       "       'Withdrawal Due to Adverse Events Detail', 'Attempted Suicide Percent',\n",
       "       'Attempted Suicide Detail', 'Completed Suicide Percent',\n",
       "       'Completed Suicide Detail', 'Harms Comment',\n",
       "       'Military Status (Study level)',\n",
       "       'Active Duty Military Percent (Study level)',\n",
       "       'Veteran Percent (Study level)', 'Community Percent (Study level)',\n",
       "       'Female Percent (Study level)', 'Female Percent Detail (Study level)',\n",
       "       'Male Percent (Study level)', 'Trauma Type (Study level)',\n",
       "       'Risk of Bias Rating (Study level)', 'Citation', 'PTSDPubs ID',\n",
       "       'Year Added to PTSD-Repository'],\n",
       "      dtype='object')"
      ]
     },
     "execution_count": 91,
     "metadata": {},
     "output_type": "execute_result"
    }
   ],
   "source": [
    "harms.columns"
   ]
  },
  {
   "cell_type": "code",
   "execution_count": 92,
   "metadata": {},
   "outputs": [
    {
     "data": {
      "text/plain": [
       "Series([], Name: Serious Adverse Event Percent, dtype: int64)"
      ]
     },
     "execution_count": 92,
     "metadata": {},
     "output_type": "execute_result"
    }
   ],
   "source": [
    "harms['Serious Adverse Event Percent'].value_counts(dropna=False)"
   ]
  },
  {
   "cell_type": "code",
   "execution_count": 93,
   "metadata": {},
   "outputs": [
    {
     "data": {
      "text/plain": [
       "Series([], Name: Serious Adverse Event Percent, dtype: float64)"
      ]
     },
     "execution_count": 93,
     "metadata": {},
     "output_type": "execute_result"
    }
   ],
   "source": [
    "harms['Serious Adverse Event Percent'].head(127)"
   ]
  },
  {
   "cell_type": "code",
   "execution_count": null,
   "metadata": {},
   "outputs": [],
   "source": []
  },
  {
   "cell_type": "code",
   "execution_count": 94,
   "metadata": {},
   "outputs": [],
   "source": [
    "harms.dropna(inplace=True)"
   ]
  },
  {
   "cell_type": "code",
   "execution_count": 95,
   "metadata": {},
   "outputs": [],
   "source": [
    "h4=harms[['Attempted Suicide Percent','Veteran Percent (Study level)', 'Male Percent (Study level)', 'Serious Adverse Event Percent', 'Psychotherapy']]"
   ]
  },
  {
   "cell_type": "code",
   "execution_count": 96,
   "metadata": {},
   "outputs": [],
   "source": [
    "def recode_ASP_h4 (series):\n",
    "    if series == 0.00:\n",
    "        return 0\n",
    "    else:\n",
    "        return 1"
   ]
  },
  {
   "cell_type": "code",
   "execution_count": 97,
   "metadata": {},
   "outputs": [],
   "source": [
    "h4['asp_recode_h4']=h4['Attempted Suicide Percent'].apply(recode_ASP_h4)"
   ]
  },
  {
   "cell_type": "code",
   "execution_count": 98,
   "metadata": {},
   "outputs": [],
   "source": [
    "def recode_Psychotherapy_h4 (series):\n",
    "    if series == 'No':\n",
    "        return 0\n",
    "    if series == 'Yes':\n",
    "        return 1"
   ]
  },
  {
   "cell_type": "code",
   "execution_count": 99,
   "metadata": {},
   "outputs": [],
   "source": [
    "h4['Psychotherapy_recode_h4']=h4['Psychotherapy'].apply(recode_Psychotherapy_h4)"
   ]
  },
  {
   "cell_type": "code",
   "execution_count": null,
   "metadata": {},
   "outputs": [],
   "source": []
  },
  {
   "cell_type": "code",
   "execution_count": null,
   "metadata": {},
   "outputs": [],
   "source": []
  },
  {
   "cell_type": "code",
   "execution_count": null,
   "metadata": {},
   "outputs": [],
   "source": []
  }
 ],
 "metadata": {
  "kernelspec": {
   "display_name": "Python 3",
   "language": "python",
   "name": "python3"
  },
  "language_info": {
   "codemirror_mode": {
    "name": "ipython",
    "version": 3
   },
   "file_extension": ".py",
   "mimetype": "text/x-python",
   "name": "python",
   "nbconvert_exporter": "python",
   "pygments_lexer": "ipython3",
   "version": "3.8.8"
  }
 },
 "nbformat": 4,
 "nbformat_minor": 4
}
